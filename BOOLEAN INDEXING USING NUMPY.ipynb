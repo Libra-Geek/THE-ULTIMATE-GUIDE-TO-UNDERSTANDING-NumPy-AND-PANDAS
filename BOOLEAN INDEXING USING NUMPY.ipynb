{
 "cells": [
  {
   "cell_type": "markdown",
   "metadata": {},
   "source": [
    "## **BOOLEAN INDEXING WITH NUMPY**\n",
    "\n",
    "- We have learnt how to use NumPy for vectorized math operations. If we wanted more statistical information, then, we would need advanced methods which leads us to **Boolean Indexing**.\n",
    "\n",
    "\n",
    "- Let us take the first step of learning how to **import csv files with NumPy**. The `numpy.genfromtxt()` function is used to actualize this goal. This function takes in two parameters:\n",
    "\n",
    "    `filename` - This is a string representing the name of the file to be read.\n",
    "    \n",
    "    `delimiter` - A named argument which specifies the string used to separate each element in the dataset.\n",
    "    \n",
    "    \n",
    "- Now, let us read our taxi dataset using the NumPy way!"
   ]
  },
  {
   "cell_type": "code",
   "execution_count": 1,
   "metadata": {},
   "outputs": [
    {
     "name": "stdout",
     "output_type": "stream",
     "text": [
      "[[       nan        nan        nan        nan        nan        nan\n",
      "         nan        nan        nan        nan        nan        nan\n",
      "         nan        nan        nan]\n",
      " [2.0160e+03 1.0000e+00 1.0000e+00 5.0000e+00 0.0000e+00 2.0000e+00\n",
      "  4.0000e+00 2.1000e+01 2.0370e+03 5.2000e+01 8.0000e-01 5.5400e+00\n",
      "  1.1650e+01 6.9990e+01 1.0000e+00]\n",
      " [2.0160e+03 1.0000e+00 1.0000e+00 5.0000e+00 0.0000e+00 2.0000e+00\n",
      "  1.0000e+00 1.6290e+01 1.5200e+03 4.5000e+01 1.3000e+00 0.0000e+00\n",
      "  8.0000e+00 5.4300e+01 1.0000e+00]\n",
      " [2.0160e+03 1.0000e+00 1.0000e+00 5.0000e+00 0.0000e+00 2.0000e+00\n",
      "  6.0000e+00 1.2700e+01 1.4620e+03 3.6500e+01 1.3000e+00 0.0000e+00\n",
      "  0.0000e+00 3.7800e+01 2.0000e+00]\n",
      " [2.0160e+03 1.0000e+00 1.0000e+00 5.0000e+00 0.0000e+00 2.0000e+00\n",
      "  6.0000e+00 8.7000e+00 1.2100e+03 2.6000e+01 1.3000e+00 0.0000e+00\n",
      "  5.4600e+00 3.2760e+01 1.0000e+00]\n",
      " [2.0160e+03 1.0000e+00 1.0000e+00 5.0000e+00 0.0000e+00 2.0000e+00\n",
      "  6.0000e+00 5.5600e+00 7.5900e+02 1.7500e+01 1.3000e+00 0.0000e+00\n",
      "  0.0000e+00 1.8800e+01 2.0000e+00]\n",
      " [2.0160e+03 1.0000e+00 1.0000e+00 5.0000e+00 0.0000e+00 4.0000e+00\n",
      "  2.0000e+00 2.1450e+01 2.0040e+03 5.2000e+01 8.0000e-01 0.0000e+00\n",
      "  5.2800e+01 1.0560e+02 1.0000e+00]\n",
      " [2.0160e+03 1.0000e+00 1.0000e+00 5.0000e+00 0.0000e+00 2.0000e+00\n",
      "  6.0000e+00 8.4500e+00 9.2700e+02 2.4500e+01 1.3000e+00 0.0000e+00\n",
      "  6.4500e+00 3.2250e+01 1.0000e+00]\n",
      " [2.0160e+03 1.0000e+00 1.0000e+00 5.0000e+00 0.0000e+00 2.0000e+00\n",
      "  6.0000e+00 7.3000e+00 7.3100e+02 2.1500e+01 1.3000e+00 0.0000e+00\n",
      "  0.0000e+00 2.2800e+01 2.0000e+00]\n",
      " [2.0160e+03 1.0000e+00 1.0000e+00 5.0000e+00 0.0000e+00 2.0000e+00\n",
      "  5.0000e+00 3.6300e+01 2.5620e+03 1.0950e+02 8.0000e-01 1.1080e+01\n",
      "  1.0000e+01 1.3138e+02 1.0000e+00]\n",
      " [2.0160e+03 1.0000e+00 1.0000e+00 5.0000e+00 0.0000e+00 6.0000e+00\n",
      "  2.0000e+00 1.2460e+01 1.3510e+03 3.6000e+01 1.3000e+00 0.0000e+00\n",
      "  0.0000e+00 3.7300e+01 2.0000e+00]\n",
      " [2.0160e+03 1.0000e+00 1.0000e+00 5.0000e+00 1.0000e+00 4.0000e+00\n",
      "  2.0000e+00 1.6600e+01 1.4670e+03 5.2000e+01 8.0000e-01 5.5400e+00\n",
      "  0.0000e+00 5.8340e+01 2.0000e+00]\n",
      " [2.0160e+03 1.0000e+00 1.0000e+00 5.0000e+00 1.0000e+00 6.0000e+00\n",
      "  3.0000e+00 5.2300e+00 8.5400e+02 1.7000e+01 1.3000e+00 0.0000e+00\n",
      "  0.0000e+00 1.8300e+01 2.0000e+00]\n",
      " [2.0160e+03 1.0000e+00 1.0000e+00 5.0000e+00 1.0000e+00 2.0000e+00\n",
      "  4.0000e+00 1.8060e+01 1.5880e+03 5.2000e+01 8.0000e-01 5.5400e+00\n",
      "  1.1670e+01 7.0010e+01 1.0000e+00]\n",
      " [2.0160e+03 1.0000e+00 1.0000e+00 5.0000e+00 1.0000e+00 4.0000e+00\n",
      "  2.0000e+00 1.6300e+01 1.4840e+03 5.2000e+01 8.0000e-01 5.5400e+00\n",
      "  0.0000e+00 5.8340e+01 2.0000e+00]\n",
      " [2.0160e+03 1.0000e+00 1.0000e+00 5.0000e+00 1.0000e+00 4.0000e+00\n",
      "  3.0000e+00 7.9700e+00 8.1500e+02 2.3500e+01 1.3000e+00 5.5400e+00\n",
      "  6.0700e+00 3.6410e+01 1.0000e+00]\n",
      " [2.0160e+03 1.0000e+00 1.0000e+00 5.0000e+00 1.0000e+00 4.0000e+00\n",
      "  3.0000e+00 1.2090e+01 1.2650e+03 3.3500e+01 1.3000e+00 5.5400e+00\n",
      "  1.0080e+01 5.0420e+01 1.0000e+00]\n",
      " [2.0160e+03 1.0000e+00 1.0000e+00 5.0000e+00 1.0000e+00 2.0000e+00\n",
      "  4.0000e+00 1.7300e+01 1.5880e+03 5.2000e+01 8.0000e-01 5.5400e+00\n",
      "  0.0000e+00 5.8340e+01 2.0000e+00]\n",
      " [2.0160e+03 1.0000e+00 1.0000e+00 5.0000e+00 1.0000e+00 2.0000e+00\n",
      "  1.0000e+00 1.3740e+01 2.3040e+03 4.2000e+01 1.3000e+00 0.0000e+00\n",
      "  5.0000e+00 4.8300e+01 1.0000e+00]\n",
      " [2.0160e+03 1.0000e+00 1.0000e+00 5.0000e+00 1.0000e+00 4.0000e+00\n",
      "  2.0000e+00 1.7570e+01 1.6540e+03 5.2000e+01 8.0000e-01 5.5400e+00\n",
      "  0.0000e+00 5.8340e+01 2.0000e+00]]\n",
      "(89561, 15)\n"
     ]
    }
   ],
   "source": [
    "import numpy as np\n",
    "taxi_numpy_list = np.genfromtxt('nyc_taxis.csv', delimiter = ',')\n",
    "taxi_numpy_shape = taxi_numpy_list.shape\n",
    "print (taxi_numpy_list[:20])\n",
    "print (taxi_numpy_shape)"
   ]
  },
  {
   "cell_type": "markdown",
   "metadata": {},
   "source": [
    "- When reading the csv files using the list of lists, we always have to read the csv files and then convert to a list before it is ready for use. The good thing about using the NumPy way is that the long process is not needed. The `numpy.genfromtxt()` function reads a file and attempts to determine the data type of the file by looking at the values. \n",
    "\n",
    "\n",
    "- We can also use the `ndarray.type` attribute to see the internal datatype that has been used. NumPy will choose a data type which will enable the majority of our dataset to be read without an error.\n",
    "\n",
    "\n",
    "- After reading the file in the above block, we can see that our dataset includes numbers as well as NaN values. Note from today that **NaN in Python means Not a Number** meaning that a value cannot be stored as a number. It can referred to as a null value.\n",
    "\n",
    "\n",
    "- NaN often implies a null value or when a value is missing but in the case of the dataset for this lesson, **the nan values represent the column titles depicted in strings** and the values cannot be converted by NumPy into  a float.\n",
    "\n",
    "\n",
    "- When importing a list of lists, to removing the header, the following syntax is used: `taxi[1:]` but good news! Using NumPy has made it easier for you to remove headers. The `numpy.genfromtxt()` function can accomodate an **additional argument: `skip_header()`** which helps us to skip the headers of the dataset. The parameter takes in an integer which states the number of rows from the start of the file to skip. If `skip_header` = 1, it means to **skip the first row of the dataset.** Note that the value used is the row number and **not the index** which is why row 1 = 1 and not 0(for an index).\n",
    "\n",
    "\n",
    "- Let us apply this to our taxi dataset."
   ]
  },
  {
   "cell_type": "code",
   "execution_count": 2,
   "metadata": {},
   "outputs": [
    {
     "name": "stdout",
     "output_type": "stream",
     "text": [
      "[[2.0160e+03 1.0000e+00 1.0000e+00 5.0000e+00 0.0000e+00 2.0000e+00\n",
      "  4.0000e+00 2.1000e+01 2.0370e+03 5.2000e+01 8.0000e-01 5.5400e+00\n",
      "  1.1650e+01 6.9990e+01 1.0000e+00]\n",
      " [2.0160e+03 1.0000e+00 1.0000e+00 5.0000e+00 0.0000e+00 2.0000e+00\n",
      "  1.0000e+00 1.6290e+01 1.5200e+03 4.5000e+01 1.3000e+00 0.0000e+00\n",
      "  8.0000e+00 5.4300e+01 1.0000e+00]\n",
      " [2.0160e+03 1.0000e+00 1.0000e+00 5.0000e+00 0.0000e+00 2.0000e+00\n",
      "  6.0000e+00 1.2700e+01 1.4620e+03 3.6500e+01 1.3000e+00 0.0000e+00\n",
      "  0.0000e+00 3.7800e+01 2.0000e+00]\n",
      " [2.0160e+03 1.0000e+00 1.0000e+00 5.0000e+00 0.0000e+00 2.0000e+00\n",
      "  6.0000e+00 8.7000e+00 1.2100e+03 2.6000e+01 1.3000e+00 0.0000e+00\n",
      "  5.4600e+00 3.2760e+01 1.0000e+00]\n",
      " [2.0160e+03 1.0000e+00 1.0000e+00 5.0000e+00 0.0000e+00 2.0000e+00\n",
      "  6.0000e+00 5.5600e+00 7.5900e+02 1.7500e+01 1.3000e+00 0.0000e+00\n",
      "  0.0000e+00 1.8800e+01 2.0000e+00]\n",
      " [2.0160e+03 1.0000e+00 1.0000e+00 5.0000e+00 0.0000e+00 4.0000e+00\n",
      "  2.0000e+00 2.1450e+01 2.0040e+03 5.2000e+01 8.0000e-01 0.0000e+00\n",
      "  5.2800e+01 1.0560e+02 1.0000e+00]\n",
      " [2.0160e+03 1.0000e+00 1.0000e+00 5.0000e+00 0.0000e+00 2.0000e+00\n",
      "  6.0000e+00 8.4500e+00 9.2700e+02 2.4500e+01 1.3000e+00 0.0000e+00\n",
      "  6.4500e+00 3.2250e+01 1.0000e+00]\n",
      " [2.0160e+03 1.0000e+00 1.0000e+00 5.0000e+00 0.0000e+00 2.0000e+00\n",
      "  6.0000e+00 7.3000e+00 7.3100e+02 2.1500e+01 1.3000e+00 0.0000e+00\n",
      "  0.0000e+00 2.2800e+01 2.0000e+00]\n",
      " [2.0160e+03 1.0000e+00 1.0000e+00 5.0000e+00 0.0000e+00 2.0000e+00\n",
      "  5.0000e+00 3.6300e+01 2.5620e+03 1.0950e+02 8.0000e-01 1.1080e+01\n",
      "  1.0000e+01 1.3138e+02 1.0000e+00]\n",
      " [2.0160e+03 1.0000e+00 1.0000e+00 5.0000e+00 0.0000e+00 6.0000e+00\n",
      "  2.0000e+00 1.2460e+01 1.3510e+03 3.6000e+01 1.3000e+00 0.0000e+00\n",
      "  0.0000e+00 3.7300e+01 2.0000e+00]\n",
      " [2.0160e+03 1.0000e+00 1.0000e+00 5.0000e+00 1.0000e+00 4.0000e+00\n",
      "  2.0000e+00 1.6600e+01 1.4670e+03 5.2000e+01 8.0000e-01 5.5400e+00\n",
      "  0.0000e+00 5.8340e+01 2.0000e+00]\n",
      " [2.0160e+03 1.0000e+00 1.0000e+00 5.0000e+00 1.0000e+00 6.0000e+00\n",
      "  3.0000e+00 5.2300e+00 8.5400e+02 1.7000e+01 1.3000e+00 0.0000e+00\n",
      "  0.0000e+00 1.8300e+01 2.0000e+00]\n",
      " [2.0160e+03 1.0000e+00 1.0000e+00 5.0000e+00 1.0000e+00 2.0000e+00\n",
      "  4.0000e+00 1.8060e+01 1.5880e+03 5.2000e+01 8.0000e-01 5.5400e+00\n",
      "  1.1670e+01 7.0010e+01 1.0000e+00]\n",
      " [2.0160e+03 1.0000e+00 1.0000e+00 5.0000e+00 1.0000e+00 4.0000e+00\n",
      "  2.0000e+00 1.6300e+01 1.4840e+03 5.2000e+01 8.0000e-01 5.5400e+00\n",
      "  0.0000e+00 5.8340e+01 2.0000e+00]\n",
      " [2.0160e+03 1.0000e+00 1.0000e+00 5.0000e+00 1.0000e+00 4.0000e+00\n",
      "  3.0000e+00 7.9700e+00 8.1500e+02 2.3500e+01 1.3000e+00 5.5400e+00\n",
      "  6.0700e+00 3.6410e+01 1.0000e+00]\n",
      " [2.0160e+03 1.0000e+00 1.0000e+00 5.0000e+00 1.0000e+00 4.0000e+00\n",
      "  3.0000e+00 1.2090e+01 1.2650e+03 3.3500e+01 1.3000e+00 5.5400e+00\n",
      "  1.0080e+01 5.0420e+01 1.0000e+00]\n",
      " [2.0160e+03 1.0000e+00 1.0000e+00 5.0000e+00 1.0000e+00 2.0000e+00\n",
      "  4.0000e+00 1.7300e+01 1.5880e+03 5.2000e+01 8.0000e-01 5.5400e+00\n",
      "  0.0000e+00 5.8340e+01 2.0000e+00]\n",
      " [2.0160e+03 1.0000e+00 1.0000e+00 5.0000e+00 1.0000e+00 2.0000e+00\n",
      "  1.0000e+00 1.3740e+01 2.3040e+03 4.2000e+01 1.3000e+00 0.0000e+00\n",
      "  5.0000e+00 4.8300e+01 1.0000e+00]\n",
      " [2.0160e+03 1.0000e+00 1.0000e+00 5.0000e+00 1.0000e+00 4.0000e+00\n",
      "  2.0000e+00 1.7570e+01 1.6540e+03 5.2000e+01 8.0000e-01 5.5400e+00\n",
      "  0.0000e+00 5.8340e+01 2.0000e+00]\n",
      " [2.0160e+03 1.0000e+00 1.0000e+00 5.0000e+00 1.0000e+00 4.0000e+00\n",
      "  3.0000e+00 9.5000e+00 1.2990e+03 2.8500e+01 1.3000e+00 0.0000e+00\n",
      "  5.9600e+00 3.5760e+01 1.0000e+00]]\n",
      "(89560, 15)\n"
     ]
    }
   ],
   "source": [
    "import numpy as np\n",
    "taxi_numpy_list = np.genfromtxt('nyc_taxis.csv', delimiter = ',', skip_header= 1)\n",
    "taxi_numpy_shape = taxi_numpy_list.shape\n",
    "print (taxi_numpy_list[:20])\n",
    "print (taxi_numpy_shape)\n",
    "# check the shape to see whether it has changed."
   ]
  },
  {
   "cell_type": "markdown",
   "metadata": {},
   "source": [
    "## **BOOLEAN ARRAYS**\n",
    "\n",
    "- As stated in the topic we are examining in this lesson, we are now shifting focus to one of the most powerful NumPy tools - **Boolean Arrays**. A Boolean array is an array of boolean values and they are also called **Boolean vectors** or **Boolean masks**. A boolean in Python has two values - true or false.\n",
    "\n",
    "\n",
    "- Boolean values are common with comparison operators i.e. `= < > !=` where `!=` means *not equal to*. When we explored vector math [here](https://github.com/Tess-hacker/THE-ULTIMATE-GUIDE-TO-UNDERSTANDING-NumPy-ARRAYS/blob/master/INTRODUCTION%20TO%20NUMPY.ipynb), we learnt that an operation between a numpy array and a single value results in a new numpy array. However, if we perform a boolean operation between a single value and a numpy array, we would not have the same result. Let's experiment this:"
   ]
  },
  {
   "cell_type": "code",
   "execution_count": 3,
   "metadata": {},
   "outputs": [
    {
     "name": "stdout",
     "output_type": "stream",
     "text": [
      "The result of an addition operation between a single value and a numpy array is:\n",
      "[12 14 16 18]\n",
      "\n",
      "\n",
      "The result of a boolean operation between a single value and a numpy array is:\n",
      "[ True  True False False]\n"
     ]
    }
   ],
   "source": [
    "print ('The result of an addition operation between a single value and a numpy array is:')\n",
    "print(np.array([2,4,6,8]) + 10)\n",
    "print ('\\n')\n",
    "print ('The result of a boolean operation between a single value and a numpy array is:')\n",
    "print(np.array([2,4,6,8]) < 5)"
   ]
  },
  {
   "cell_type": "code",
   "execution_count": 4,
   "metadata": {},
   "outputs": [
    {
     "name": "stdout",
     "output_type": "stream",
     "text": [
      "The result of a boolean operation for numbers greater than 3 is:\n",
      "[False False False  True  True]\n",
      "\n",
      "\n",
      "The result of a boolean operation for colors = blue is:\n",
      "[ True  True False  True]\n",
      "\n",
      "\n",
      "The result of a boolean operation for numbers greater than 100 is:\n",
      "[False  True False  True]\n"
     ]
    }
   ],
   "source": [
    "a = np.array([1, 2, 3, 4, 5])\n",
    "a_booleanresults = a > 3\n",
    "print ('The result of a boolean operation for numbers greater than 3 is:')\n",
    "print (a_booleanresults)\n",
    "print ('\\n')\n",
    "b = np.array([\"blue\", \"blue\", \"red\", \"blue\"])\n",
    "print ('The result of a boolean operation for colors = blue is:')\n",
    "print (b == \"blue\")\n",
    "print ('\\n')\n",
    "c = np.array([80.0, 103.4, 96.9, 200.3])\n",
    "print ('The result of a boolean operation for numbers greater than 100 is:')\n",
    "print (c>100)"
   ]
  },
  {
   "cell_type": "markdown",
   "metadata": {},
   "source": [
    "## **BOOLEAN INDEXING**\n",
    "\n",
    "- Now, we should learn the art of boolean indexing. It is important to understand and know how to select arrays using boolean indexes. For instance, in the codes above, if we wanted to print out the valid/True results as a new index, the following approach can be used:"
   ]
  },
  {
   "cell_type": "code",
   "execution_count": 5,
   "metadata": {},
   "outputs": [
    {
     "name": "stdout",
     "output_type": "stream",
     "text": [
      "[4 5]\n"
     ]
    }
   ],
   "source": [
    "a_booleanindex = a[a_booleanresults]\n",
    "print (a_booleanindex)"
   ]
  },
  {
   "cell_type": "markdown",
   "metadata": {},
   "source": [
    "- From the above instance, you can now see that the boolean array acts a dataset filter such that the False values are automatically removed and the True values are automatically retained. \n",
    "\n",
    "\n",
    "- Let us confirm the number of New York taxi rides for the month of January in our dataset and filter out the results using boolean indexing."
   ]
  },
  {
   "cell_type": "code",
   "execution_count": 6,
   "metadata": {
    "jupyter": {
     "source_hidden": true
    }
   },
   "outputs": [
    {
     "name": "stdout",
     "output_type": "stream",
     "text": [
      "[1. 1. 1. ... 1. 1. 1.]\n",
      "\n",
      "\n",
      "The total pickup rides in January are:\n",
      "13481 rides\n"
     ]
    }
   ],
   "source": [
    "taxi_pickups = taxi_numpy_list[: , 1]\n",
    "January_pickups = taxi_pickups == 1 # where 1 represents the month of January\n",
    "January_booleanindex = taxi_pickups[January_pickups]\n",
    "January_shape = January_booleanindex.shape[0]\n",
    "end_string = \"rides\"\n",
    "print (January_booleanindex)\n",
    "print ('\\n')\n",
    "print (\"The total pickup rides in January are:\")\n",
    "print (January_shape, end_string, sep = \" \")"
   ]
  },
  {
   "cell_type": "code",
   "execution_count": 7,
   "metadata": {
    "jupyter": {
     "source_hidden": true
    }
   },
   "outputs": [
    {
     "name": "stdout",
     "output_type": "stream",
     "text": [
      "[2. 2. 2. ... 2. 2. 2.]\n",
      "\n",
      "\n",
      "The total pickup rides in February are:\n",
      "13333 rides\n"
     ]
    }
   ],
   "source": [
    "taxi_pickups = taxi_numpy_list[: , 1]\n",
    "February_pickups = taxi_pickups == 2 # where 2 represents the month of February\n",
    "February_booleanindex = taxi_pickups[February_pickups]\n",
    "February_shape = February_booleanindex.shape[0]\n",
    "end_string = \"rides\"\n",
    "print (February_booleanindex)\n",
    "print ('\\n')\n",
    "print (\"The total pickup rides in February are:\")\n",
    "print (February_shape, end_string, sep = \" \")"
   ]
  },
  {
   "cell_type": "markdown",
   "metadata": {},
   "source": [
    "- Remember, you can calculate for the rest of the months to ascertain which had the highest pickup rides"
   ]
  },
  {
   "cell_type": "code",
   "execution_count": 8,
   "metadata": {
    "jupyter": {
     "source_hidden": true
    }
   },
   "outputs": [
    {
     "name": "stdout",
     "output_type": "stream",
     "text": [
      "The total pickup rides in March are:\n",
      "15547 rides\n",
      "The total pickup rides in April are:\n",
      "14810 rides\n",
      "The total pickup rides in May are:\n",
      "16650 rides\n",
      "The total pickup rides in June are:\n",
      "15739 rides\n",
      "The total pickup rides in July are:\n",
      "0 rides\n",
      "The total pickup rides in August are:\n",
      "0 rides\n",
      "The total pickup rides in September are:\n",
      "0 rides\n",
      "The total pickup rides in October are:\n",
      "0 rides\n",
      "The total pickup rides in November are:\n",
      "0 rides\n",
      "The total pickup rides in December are:\n",
      "0 rides\n"
     ]
    }
   ],
   "source": [
    "taxi_pickups = taxi_numpy_list[: , 1]\n",
    "March_pickups = taxi_pickups == 3 \n",
    "April_pickups = taxi_pickups == 4 \n",
    "May_pickups = taxi_pickups == 5 \n",
    "June_pickups = taxi_pickups == 6 \n",
    "July_pickups = taxi_pickups == 7\n",
    "August_pickups = taxi_pickups == 8 \n",
    "September_pickups = taxi_pickups == 9 \n",
    "October_pickups = taxi_pickups == 10 \n",
    "November_pickups = taxi_pickups == 11\n",
    "December_pickups = taxi_pickups == 12\n",
    "March_booleanindex = taxi_pickups[March_pickups]\n",
    "April_booleanindex = taxi_pickups[April_pickups]\n",
    "May_booleanindex = taxi_pickups[May_pickups]\n",
    "June_booleanindex = taxi_pickups[June_pickups]\n",
    "July_booleanindex = taxi_pickups[July_pickups]\n",
    "August_booleanindex = taxi_pickups[August_pickups]\n",
    "September_booleanindex = taxi_pickups[September_pickups]\n",
    "October_booleanindex = taxi_pickups[October_pickups]\n",
    "November_booleanindex = taxi_pickups[November_pickups]\n",
    "December_booleanindex = taxi_pickups[December_pickups]\n",
    "March_shape = March_booleanindex.shape[0]\n",
    "April_shape = April_booleanindex.shape[0]\n",
    "May_shape = May_booleanindex.shape[0]\n",
    "June_shape = June_booleanindex.shape[0]\n",
    "July_shape = July_booleanindex.shape[0]\n",
    "August_shape = August_booleanindex.shape[0]\n",
    "September_shape = September_booleanindex.shape[0]\n",
    "October_shape = October_booleanindex.shape[0]\n",
    "November_shape = November_booleanindex.shape[0]\n",
    "December_shape = December_booleanindex.shape[0]\n",
    "end_string = \"rides\"\n",
    "print (\"The total pickup rides in March are:\")\n",
    "print (March_shape, end_string, sep = \" \")\n",
    "print (\"The total pickup rides in April are:\")\n",
    "print (April_shape, end_string, sep = \" \")\n",
    "print (\"The total pickup rides in May are:\")\n",
    "print (May_shape, end_string, sep = \" \")\n",
    "print (\"The total pickup rides in June are:\")\n",
    "print (June_shape, end_string, sep = \" \")\n",
    "print (\"The total pickup rides in July are:\")\n",
    "print (July_shape, end_string, sep = \" \")\n",
    "print (\"The total pickup rides in August are:\")\n",
    "print (August_shape, end_string, sep = \" \")\n",
    "print (\"The total pickup rides in September are:\")\n",
    "print (September_shape, end_string, sep = \" \")\n",
    "print (\"The total pickup rides in October are:\")\n",
    "print (October_shape, end_string, sep = \" \")\n",
    "print (\"The total pickup rides in November are:\")\n",
    "print (November_shape, end_string, sep = \" \")\n",
    "print (\"The total pickup rides in December are:\")\n",
    "print (December_shape, end_string, sep = \" \")"
   ]
  },
  {
   "cell_type": "code",
   "execution_count": 9,
   "metadata": {},
   "outputs": [
    {
     "name": "stdout",
     "output_type": "stream",
     "text": [
      "The month with the maximum number of rides is May with 16650 rides\n"
     ]
    }
   ],
   "source": [
    "shapes = (January_shape, February_shape, March_shape, April_shape, May_shape, June_shape)\n",
    "maximum_ride = max(shapes)\n",
    "start_string = \"The month with the maximum number of rides is May with\"\n",
    "last_string = \"rides\"\n",
    "print(start_string, maximum_ride, last_string, sep = \" \")"
   ]
  },
  {
   "cell_type": "markdown",
   "metadata": {},
   "source": [
    "- We have worked with 1-dimensional arrays in the above codes. Now, it is time to work with 2-dimensional arrays.\n",
    "\n",
    "\n",
    "- Usually a boolean array contains no information about how it was created, so, it is possible for us to use an array created from one column to index the rest of the array. \n",
    "\n",
    "\n",
    "- Using the knowledge we have gotten so far, let us calculate the:\n",
    "\n",
    "    - Average travel speed\n",
    "    \n",
    "    - Travel speeds greater than 20,000mph\n",
    "    \n",
    "    - The maximum values for the tip amount "
   ]
  },
  {
   "cell_type": "code",
   "execution_count": 10,
   "metadata": {},
   "outputs": [
    {
     "name": "stdout",
     "output_type": "stream",
     "text": [
      "[[ 2.   2.  23.   1. ]\n",
      " [ 2.   2.  19.6  1. ]\n",
      " [ 2.   2.  16.7  2. ]\n",
      " [ 3.   3.  17.8  2. ]\n",
      " [ 2.   2.  17.2  2. ]\n",
      " [ 3.   3.  16.9  3. ]\n",
      " [ 2.   2.  27.1  4. ]]\n",
      "\n",
      "\n",
      "The maximum value on the tip amount column is:\n",
      "100.0\n",
      "\n",
      "\n",
      "The highest tips received for all rides are:\n",
      "[[4.0000e+00 2.0000e+00 1.8420e+01 2.9680e+03 5.2000e+01 8.0000e-01\n",
      "  5.5400e+00 8.0000e+01 1.3834e+02]\n",
      " [4.0000e+00 2.0000e+00 3.8200e+01 9.2520e+03 5.2000e+01 8.0000e-01\n",
      "  5.5400e+00 8.0000e+01 1.3834e+02]\n",
      " [2.0000e+00 0.0000e+00 2.6210e+01 1.7029e+04 1.8050e+02 8.0000e-01\n",
      "  5.5400e+00 1.0000e+02 2.8684e+02]\n",
      " [2.0000e+00 2.0000e+00 0.0000e+00 3.0000e+00 2.5000e+00 1.8000e+00\n",
      "  0.0000e+00 7.5700e+01 8.0000e+01]]\n"
     ]
    }
   ],
   "source": [
    "trip_milesperhour = taxi_numpy_list[:,7] / (taxi_numpy_list[:,8]/3600) # where column index 7 and 8 are the trip distance and trip length respectively\n",
    "\n",
    "# now, we find the travel speeds which are greater than 20,000mph\n",
    "tripmph_bool = trip_milesperhour > 20000\n",
    "tripmph_greaterthan20k = taxi_numpy_list[tripmph_bool,5:9]\n",
    "print (tripmph_greaterthan20k)\n",
    "print ('\\n')\n",
    "# Now, let us examine the highest values on the tip amount column. Really, we don't know the maximum amount on this column to determine the benchmark value. Let's find out\n",
    "tipamount_column = taxi_numpy_list[: , 12]\n",
    "tip_benchmark = max(tipamount_column)\n",
    "print (\"The maximum value on the tip amount column is:\")\n",
    "print (tip_benchmark)\n",
    "print ('\\n')\n",
    "# Now that we know, we could set our benchmark to 70 and find out the values greater than this.\n",
    "tipamount_bool = tipamount_column > 70\n",
    "highest_tip_amounts = taxi_numpy_list[tipamount_bool, 5:14]\n",
    "print(\"The highest tips received for all rides are:\")\n",
    "print (highest_tip_amounts)"
   ]
  },
  {
   "cell_type": "markdown",
   "metadata": {},
   "source": [
    "## **ASSIGNING VALUES IN NDARRAYS**\n",
    "\n",
    "- Apart from indexing which we can perform with 1-dimensional and 2-dimensional arrays, we can replace and assign values to numpy arrays. The indexing techniques which we have learnt earlier will be helpful in realizing this goal. Values can be assigned either individually or in groups for both a 1-dimensional and  2-dimensional arrays on rows and columns likewise. \n",
    "\n",
    "- Let us practice this below:\n"
   ]
  },
  {
   "cell_type": "code",
   "execution_count": 11,
   "metadata": {},
   "outputs": [
    {
     "name": "stdout",
     "output_type": "stream",
     "text": [
      "['orange' 'blue' 'black' 'blue' 'purple']\n",
      "\n",
      "\n",
      "['orange' 'blue' 'black' 'pink' 'pink']\n",
      "\n",
      "\n",
      "[[ 1  1  1  1  1]\n",
      " [ 1  1 99  1  1]\n",
      " [ 1  1  1  1  1]]\n",
      "\n",
      "\n",
      "[[42 42 42 42 42]\n",
      " [ 1  1 99  1  1]\n",
      " [ 1  1  1  1  1]]\n",
      "\n",
      "\n",
      "[[42 42  0 42 42]\n",
      " [ 1  1  0  1  1]\n",
      " [ 1  1  0  1  1]]\n"
     ]
    }
   ],
   "source": [
    "# assigning single values\n",
    "a = np.array(['red','blue','black','blue','purple'])\n",
    "a[0] = 'orange'\n",
    "print(a)\n",
    "print ('\\n')\n",
    "# assigning multiple values\n",
    "a[3:] = 'pink'\n",
    "print(a)\n",
    "print('\\n')\n",
    "# assigning values to a specific index on a ndarray\n",
    "ones = np.array([[1, 1, 1, 1, 1],\n",
    "                 [1, 1, 1, 1, 1],\n",
    "                 [1, 1, 1, 1, 1]])\n",
    "ones[1,2] = 99\n",
    "print(ones)\n",
    "print ('\\n')\n",
    "# assigning a whole row\n",
    "ones[0] = 42\n",
    "print(ones)\n",
    "print ('\\n')\n",
    "# assigning a whole column\n",
    "ones[:,2] = 0\n",
    "print(ones)"
   ]
  },
  {
   "cell_type": "code",
   "execution_count": 12,
   "metadata": {},
   "outputs": [
    {
     "name": "stdout",
     "output_type": "stream",
     "text": [
      "1.0\n",
      "\n",
      "\n",
      "[16. 16. 16. ... 16. 16. 16.]\n",
      "\n",
      "\n",
      "12.6674260830728\n",
      "\n",
      "\n",
      "[12.66742608 12.66742608]\n"
     ]
    }
   ],
   "source": [
    "# let us now practice these techniques on our nyc dataset\n",
    "taxi_numpy_list_duplicate = taxi_numpy_list.copy() # this is a duplicate of the original dataset to enable us work on the dataset without modifying the original\n",
    "taxi_numpy_list_duplicate[28214,5] = 1\n",
    "taxi_numpy_list_duplicate[:,0] = 16\n",
    "new_mean = taxi_numpy_list_duplicate[1800:1802,7]\n",
    "new_mean = taxi_numpy_list_duplicate[:,7].mean()\n",
    "taxi_numpy_list_duplicate[1800:1802,7] = taxi_numpy_list_duplicate[:,7].mean() # this is the same with 'new mean'; just a different approach\n",
    "print (taxi_numpy_list_duplicate[28214, 5])\n",
    "print ('\\n')\n",
    "print (taxi_numpy_list_duplicate[:,0])\n",
    "print ('\\n')\n",
    "print (new_mean)\n",
    "print ('\\n')\n",
    "print (taxi_numpy_list_duplicate[1800:1802,7])"
   ]
  },
  {
   "cell_type": "markdown",
   "metadata": {},
   "source": [
    "- In the previous code, we had to assign our new values to a variable before inserting them. However, the boolean arrays are much more powerful. You can assign these new values using shortcuts. Let us see an example below after which we would now apply it to the duplicate dataset. "
   ]
  },
  {
   "cell_type": "code",
   "execution_count": 13,
   "metadata": {},
   "outputs": [
    {
     "name": "stdout",
     "output_type": "stream",
     "text": [
      "[ 1  2 99 99 99]\n"
     ]
    }
   ],
   "source": [
    "a2 = np.array([1, 2, 3, 4, 5])\n",
    "\n",
    "a2_bool = a2 > 2\n",
    "\n",
    "a2[a2_bool] = 99\n",
    "\n",
    "print(a2)"
   ]
  },
  {
   "cell_type": "code",
   "execution_count": 14,
   "metadata": {},
   "outputs": [
    {
     "name": "stdout",
     "output_type": "stream",
     "text": [
      "[69.99 54.3  37.8  ... 63.34 44.75 54.84]\n"
     ]
    }
   ],
   "source": [
    "# let us use the shortcut to change the values of the total amount column lesser than 0 to 0\n",
    "total_column = taxi_numpy_list_duplicate[:, 13]\n",
    "total_bool = total_column < 0\n",
    "total_column[total_bool] = 0\n",
    "print (total_column)"
   ]
  },
  {
   "cell_type": "markdown",
   "metadata": {},
   "source": [
    "- Using the boolean arrays, we can conduct a two-dimensional assignment of variables. Here's how:\n",
    "\n",
    "    - Given a two-dimensional array:\n",
    "    \n",
    "        `c = np.array([[1,2,3],[4,5,6],[7,8,9]])`\n",
    "    \n",
    "    - We can use one column to perform a comparison with the 2-dimensional array:\n",
    "        \n",
    "        `c[:, 1] > 2`\n",
    "        \n",
    "    - Then, we can use the boolean array as the row index and the column index to specify the column:\n",
    "    \n",
    "        `c[c[:,1]>2 , 1] = 99`\n",
    "        \n",
    "\n",
    "- Let us practicalize this using the duplicate dataset:                "
   ]
  },
  {
   "cell_type": "code",
   "execution_count": 15,
   "metadata": {},
   "outputs": [
    {
     "name": "stdout",
     "output_type": "stream",
     "text": [
      "[[2.016e+03 1.000e+00 1.000e+00 ... 6.999e+01 1.000e+00 0.000e+00]\n",
      " [2.016e+03 1.000e+00 1.000e+00 ... 5.430e+01 1.000e+00 0.000e+00]\n",
      " [2.016e+03 1.000e+00 1.000e+00 ... 3.780e+01 2.000e+00 0.000e+00]\n",
      " ...\n",
      " [2.016e+03 6.000e+00 3.000e+01 ... 6.334e+01 1.000e+00 0.000e+00]\n",
      " [2.016e+03 6.000e+00 3.000e+01 ... 4.475e+01 1.000e+00 0.000e+00]\n",
      " [2.016e+03 6.000e+00 3.000e+01 ... 5.484e+01 2.000e+00 0.000e+00]]\n",
      "[1. 1. 1. ... 1. 1. 1.]\n"
     ]
    }
   ],
   "source": [
    "# in the duplicated dataset, I would like to add an additional column which will have an index no 15\n",
    "new_column = np.zeros([taxi_numpy_list.shape[0],1])\n",
    "taxi_numpy_list_duplicate = np.concatenate([taxi_numpy_list, new_column], axis =1)\n",
    "print (taxi_numpy_list_duplicate)\n",
    "# now we want to compare the new column values to an existing column value and assign respective values. Let us use the 5th index column which is the airport location\n",
    "# for every JFK airport location with 2 as its value, we want to assign the value 1 to the new column\n",
    "taxi_numpy_list_duplicate[taxi_numpy_list_duplicate[:,5]== 2, 15] = 1\n",
    "# for every LaGuardia airport location with 3 as its value, we want to assign the value 1 to the new column\n",
    "taxi_numpy_list_duplicate[taxi_numpy_list_duplicate[:,5]== 3, 15] = 1\n",
    "# for every Newark airport location with 5 as its value, we want to assign the value 1 to the new column\n",
    "taxi_numpy_list_duplicate[taxi_numpy_list_duplicate[:,5]== 5, 15] = 1\n",
    "print (taxi_numpy_list_duplicate[:,15])"
   ]
  },
  {
   "cell_type": "markdown",
   "metadata": {},
   "source": [
    "## **CHALLENGE 1: FINDING THE MOST POPULAR AIRPORT**\n",
    "\n",
    "- To complete this lesson, we want to execute some challenges. First, we want to find out which airport is the most popular among the three airports. For the exercise, we would be using the sixth index which is the `dropoff_location_code`. The three airports which we have and their respective values are:\n",
    "\n",
    "    - JFK : 2\n",
    "    \n",
    "    - LaGuardia : 3\n",
    "    \n",
    "    - Newark: 5\n",
    "    \n",
    "\n",
    "- We would use Boolean indexing the filter out the rows with the above values for the airports and we would subsequently use the numpy `shape()` function to find the total rows containing those values which would help us to finally decide the airport with the highest visits serving as the most popular destination. \n",
    "\n",
    "\n",
    "- Kindly note that we are using our original dataset instead of the duplicate."
   ]
  },
  {
   "cell_type": "code",
   "execution_count": 21,
   "metadata": {},
   "outputs": [
    {
     "name": "stdout",
     "output_type": "stream",
     "text": [
      "The total visits to the JFK airport is:\n",
      "11832\n",
      "\n",
      "\n",
      "The total visits to the LaGuardia airport is:\n",
      "16602\n",
      "\n",
      "\n",
      "The total visits to the Newark airport is:\n",
      "63\n"
     ]
    }
   ],
   "source": [
    "jfk_airport = taxi_numpy_list[taxi_numpy_list[:,6] == 2]\n",
    "# print (jfk_airport)\n",
    "jfk_count = jfk_airport.shape[0]\n",
    "print ('The total visits to the JFK airport is:')\n",
    "print (jfk_count)\n",
    "print ('\\n')\n",
    "laguardia_airport = taxi_numpy_list[taxi_numpy_list[:,6] == 3]\n",
    "# print (laguardia_airport)\n",
    "laguardia_count = laguardia_airport.shape[0]\n",
    "print ('The total visits to the LaGuardia airport is:')\n",
    "print (laguardia_count)\n",
    "print ('\\n')\n",
    "newark_airport = taxi_numpy_list[taxi_numpy_list[:,6] == 5]\n",
    "# print (newark_airport)\n",
    "newark_count = newark_airport.shape[0]\n",
    "print ('The total visits to the Newark airport is:')\n",
    "print (newark_count)"
   ]
  },
  {
   "cell_type": "markdown",
   "metadata": {},
   "source": [
    "- From the above analysis, it can be concluded that LaGuardia has the highest visits thus making it the most popular airport.\n",
    "\n",
    "\n",
    "- Our second and last challenge is to clean up our dataset. In other words, we want to remove the bad data from the dataset to give us **clean data**. \n",
    "\n",
    "\n",
    "- We will begin by removing the rows with an average speed greater than 100mph using Boolean indexing. Afterwards, we will use the numpy array method to calculate the mean for certain columns available in the rest of the cleaned data which are:\n",
    "\n",
    "    - `trip_distance` at column index 7\n",
    "    \n",
    "    - `trip_length` at column index 8\n",
    "    \n",
    "    - `total_column` at column index 13"
   ]
  },
  {
   "cell_type": "code",
   "execution_count": 24,
   "metadata": {},
   "outputs": [
    {
     "name": "stdout",
     "output_type": "stream",
     "text": [
      "12.666396599932893\n",
      "\n",
      "\n",
      "2239.503657309026\n",
      "\n",
      "\n",
      "48.98131853260262\n"
     ]
    }
   ],
   "source": [
    "# in this calculation, we would make use of the trip_milesperhour which has been calculated in the above codes\n",
    "average_speed = taxi_numpy_list[trip_milesperhour < 100]\n",
    "# now we calculate the means\n",
    "trip_distance = average_speed[:,7]\n",
    "mean_tripdistance = trip_distance.mean()\n",
    "trip_length = average_speed[:,8]\n",
    "mean_triplength = trip_length.mean()\n",
    "total_amount = average_speed[:,13]\n",
    "mean_totalamount = total_amount.mean()\n",
    "print (mean_tripdistance)\n",
    "print ('\\n')\n",
    "print (mean_triplength)\n",
    "print ('\\n')\n",
    "print (mean_totalamount)"
   ]
  },
  {
   "cell_type": "markdown",
   "metadata": {},
   "source": [
    "# **CONCLUSION**\n",
    "\n",
    "- In this lesson, I have been able to explicitly show you:\n",
    "\n",
    "    - How to use numpy.genfromtxt() to read in an ndarray.\n",
    "    \n",
    "    - About NaN values.\n",
    "    \n",
    "    - What a boolean array is, and how to create one.\n",
    "    \n",
    "    - How to use boolean indexing to filter values in one and two-dimensional ndarrays.\n",
    "    \n",
    "    - How to assign one or more new values to an ndarray based on their locations.\n",
    "    \n",
    "    - How to assign one or more new values to an ndarray based on their values.\n",
    "\n",
    "\n",
    "- Now, go ahead and try out some exercises using NumPy and see what you have learnt! HAPPY CODING!!"
   ]
  }
 ],
 "metadata": {
  "kernelspec": {
   "display_name": "Python 3",
   "language": "python",
   "name": "python3"
  },
  "language_info": {
   "codemirror_mode": {
    "name": "ipython",
    "version": 3
   },
   "file_extension": ".py",
   "mimetype": "text/x-python",
   "name": "python",
   "nbconvert_exporter": "python",
   "pygments_lexer": "ipython3",
   "version": "3.7.6"
  }
 },
 "nbformat": 4,
 "nbformat_minor": 4
}
