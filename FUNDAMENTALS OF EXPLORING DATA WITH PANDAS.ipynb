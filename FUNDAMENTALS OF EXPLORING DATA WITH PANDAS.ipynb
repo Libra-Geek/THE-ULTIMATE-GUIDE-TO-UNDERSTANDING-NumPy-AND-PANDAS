{
 "cells": [
  {
   "cell_type": "markdown",
   "metadata": {},
   "source": [
    "# **INTRODUCTION**\n",
    "\n",
    "-  Earlier in the introduction to pandas, we explored the use of pandas over NumPy and why it makes coding a whole lot easier than NumPy. \n",
    "\n",
    "- Just as a reminder, the **Fortune 500** dataset used in this course mentioned earlier can be found [here]( /https://github.com/Tess-hacker/THE-ULTIMATE-GUIDE-TO-UNDERSTANDING-NumPy-AND-PANDAS/blob/master/FORTUNE's%20500%20LIST.csv). Feel free to explore it!\n",
    "\n",
    "- If you have been following the [previous introductory lesson](https://github.com/Tess-hacker/THE-ULTIMATE-GUIDE-TO-UNDERSTANDING-NumPy-AND-PANDAS/blob/master/INTRODUCTION%20TO%20PANDAS.ipynb), then you might not need this. Otherwise, let's do a bit of revision before we start.\n",
    "\n",
    "- Let us print out the first 10 rows of the dataset and get the data type contained within our dataset. Ready? **LET'S GO!**"
   ]
  },
  {
   "cell_type": "code",
   "execution_count": 3,
   "metadata": {},
   "outputs": [
    {
     "name": "stdout",
     "output_type": "stream",
     "text": [
      "<class 'pandas.core.frame.DataFrame'>\n",
      "Index: 500 entries, Walmart to AutoNation\n",
      "Data columns (total 16 columns):\n",
      " #   Column                    Non-Null Count  Dtype  \n",
      "---  ------                    --------------  -----  \n",
      " 0   rank                      500 non-null    int64  \n",
      " 1   revenues                  500 non-null    int64  \n",
      " 2   revenue_change            498 non-null    float64\n",
      " 3   profits                   499 non-null    float64\n",
      " 4   assets                    500 non-null    int64  \n",
      " 5   profit_change             436 non-null    float64\n",
      " 6   ceo                       500 non-null    object \n",
      " 7   industry                  500 non-null    object \n",
      " 8   sector                    500 non-null    object \n",
      " 9   previous_rank             500 non-null    int64  \n",
      " 10  country                   500 non-null    object \n",
      " 11  hq_location               500 non-null    object \n",
      " 12  website                   500 non-null    object \n",
      " 13  years_on_global_500_list  500 non-null    int64  \n",
      " 14  employees                 500 non-null    int64  \n",
      " 15  total_stockholder_equity  500 non-null    int64  \n",
      "dtypes: float64(3), int64(7), object(6)\n",
      "memory usage: 66.4+ KB\n"
     ]
    }
   ],
   "source": [
    "import pandas as pd\n",
    "f500 = pd.read_csv('f500.csv',index_col=0)\n",
    "f500.index.name = None\n",
    "import pandas as pd\n",
    "f500 = pd.read_csv('f500.csv',index_col=0)\n",
    "f500.index.name = None\n",
    "f500_head = f500.head(10)\n",
    "f500.info()"
   ]
  },
  {
   "cell_type": "markdown",
   "metadata": {},
   "source": [
    "## **VECTORIZED OPERATIONS**\n",
    "\n",
    "1. Remember vectorized operations in NumPy? We can also do that for pandas and it can be done in an even smoother way.\n",
    "\n",
    "2. We can do vectorization in pandas series the following way:\n",
    "\n",
    "    - series_a + series_b - Addition\n",
    "    - series_a - series_b - Subtraction\n",
    "    - series_a * series_b - Multiplication (this is unrelated to the multiplications used in linear algebra).\n",
    "    - series_a / series_b - Division\n",
    "    \n",
    "3. Remember that our dataset contains the previous and current year rank list. We can find the difference in the two categories of ranks using the vectorization method.\n"
   ]
  },
  {
   "cell_type": "code",
   "execution_count": 4,
   "metadata": {},
   "outputs": [
    {
     "name": "stdout",
     "output_type": "stream",
     "text": [
      "Walmart                             0\n",
      "State Grid                          0\n",
      "Sinopec Group                       1\n",
      "China National Petroleum           -1\n",
      "Toyota Motor                        3\n",
      "                                 ... \n",
      "Teva Pharmaceutical Industries   -496\n",
      "New China Life Insurance          -70\n",
      "Wm. Morrison Supermarkets         -61\n",
      "TUI                               -32\n",
      "AutoNation                       -500\n",
      "Length: 500, dtype: int64\n"
     ]
    }
   ],
   "source": [
    "rank_column = f500['rank']\n",
    "previous_rank = f500['previous_rank']\n",
    "rank_change = previous_rank - rank_column\n",
    "print (rank_change)"
   ]
  },
  {
   "cell_type": "markdown",
   "metadata": {},
   "source": [
    "- Based on the result above, we can see that from the first five ranking differences:\n",
    "\n",
    "    - **Walmart and State Grid** are still on the same ranking spot as there is no difference\n",
    "    - **Sinopec and Toyota Motor** went up on the rankings by the numbers shown\n",
    "    - **China National** dropped in their ranking.\n",
    "    \n",
    "- As nice as it is to individually analyse the results of the ranking, it is not a feasible plan especially when we have an overwhelming volume of data to analyse.\n",
    "\n",
    "- So, if we want to just get the highest and lowest ranked firm(s) amongst the whole data we have, there is only one way of getting that. Are you thinking what I am thinking?*wink*\n",
    "\n",
    "- Let me show you!"
   ]
  },
  {
   "cell_type": "code",
   "execution_count": 5,
   "metadata": {},
   "outputs": [
    {
     "name": "stdout",
     "output_type": "stream",
     "text": [
      "226\n",
      "-500\n"
     ]
    }
   ],
   "source": [
    "rank_change =  f500[\"previous_rank\"] - f500[\"rank\"] #to calculate the rank change as we did earlier\n",
    "rank_change_max = rank_change.max() #to get the highest ranked firm\n",
    "rank_change_min = rank_change.min() #to get the lowest ranked firm\n",
    "print (rank_change_max)\n",
    "print (rank_change_min)\n",
    "# now let's run the code"
   ]
  },
  {
   "cell_type": "markdown",
   "metadata": {},
   "source": [
    "- The result above shows that the firm whose ranking went up the most went up by 226 while the lowest ranked firm's ranking dropped by 500. That's what you would think, right?\n",
    "\n",
    "- Oh well.... Think again\n",
    "\n",
    "- So, according to the data dictionary, our data ranking should only fall within a scale of 1 and 500. So, even if we have the lowest ranked company, the ranking should be a -499 instead of a 500, correct? \n",
    "\n",
    "- To investigate this issue and get more familiar with our data, we need a new approach: the `Series.describe()`method. This method helps us to understand **how many non-null values are contained in the series, plus the mean, minimum, maximum, and other statistics** contained within the dataset.\n",
    "\n",
    "- A major thing you should take note of is that **`series.describe()` method works differently on numeric and non-numeric data respectively**.\n",
    "\n",
    "- Using this method, let us see the nature of the dataset we are working with. Ready?\n"
   ]
  },
  {
   "cell_type": "code",
   "execution_count": 6,
   "metadata": {},
   "outputs": [
    {
     "name": "stdout",
     "output_type": "stream",
     "text": [
      "The numeric assets column gives us:\n",
      "count    5.000000e+02\n",
      "mean     2.436323e+05\n",
      "std      4.851937e+05\n",
      "min      3.717000e+03\n",
      "25%      3.658850e+04\n",
      "50%      7.326150e+04\n",
      "75%      1.805640e+05\n",
      "max      3.473238e+06\n",
      "Name: assets, dtype: float64\n",
      "\n",
      "\n",
      "The country non-numeric column gives us:\n",
      "count     500\n",
      "unique     34\n",
      "top       USA\n",
      "freq      132\n",
      "Name: country, dtype: object\n"
     ]
    }
   ],
   "source": [
    "# for the numeric column in the dataset\n",
    "assets = f500[\"assets\"]\n",
    "print (\"The numeric assets column gives us:\")\n",
    "print(assets.describe())\n",
    "print ('\\n')\n",
    "\n",
    "# for the non-numeric column in the dataset\n",
    "country = f500[\"country\"]\n",
    "print (\"The country non-numeric column gives us:\")\n",
    "print(country.describe())"
   ]
  },
  {
   "cell_type": "markdown",
   "metadata": {},
   "source": [
    "- The first statistic, `count`, is the same as for both numeric and non-numeric columns, showing us the number of non-null(zero) values. \n",
    "\n",
    "- The other three statistics are new:\n",
    "\n",
    "    - `unique`: Number of unique values in the series. In this case, it tells us that there are 34 different countries represented in the Fortune 500.\n",
    "    - `top`: Most common value in the series. The **USA** is the country that headquarters the most Fortune 500 companies.\n",
    "    - `freq`: Frequency of the most common value. Exactly 132 companies from the Fortune 500 are headquartered in the USA.\n",
    "\n",
    "- Using this same approach, let us find out the nature of data contained within the `rank` and the `previous rank` columns in the dataset."
   ]
  },
  {
   "cell_type": "code",
   "execution_count": 7,
   "metadata": {},
   "outputs": [
    {
     "name": "stdout",
     "output_type": "stream",
     "text": [
      "The RANK column data contains:\n",
      "count    500.000000\n",
      "mean     250.500000\n",
      "std      144.481833\n",
      "min        1.000000\n",
      "25%      125.750000\n",
      "50%      250.500000\n",
      "75%      375.250000\n",
      "max      500.000000\n",
      "Name: rank, dtype: float64\n",
      "\n",
      "\n",
      "The PREVIOUS RANK column data contains:\n",
      "Walmart                             1\n",
      "State Grid                          2\n",
      "Sinopec Group                       4\n",
      "China National Petroleum            3\n",
      "Toyota Motor                        8\n",
      "                                 ... \n",
      "Teva Pharmaceutical Industries      0\n",
      "New China Life Insurance          427\n",
      "Wm. Morrison Supermarkets         437\n",
      "TUI                               467\n",
      "AutoNation                          0\n",
      "Name: previous_rank, Length: 500, dtype: int64\n"
     ]
    }
   ],
   "source": [
    "rank = f500[\"rank\"]\n",
    "rank_desc =rank.describe()\n",
    "print (\"The RANK column data contains:\")\n",
    "print (rank_desc)\n",
    "print ('\\n')\n",
    "previous_rank = f500[\"previous_rank\"]\n",
    "prev_rank_desc = previous_rank.describe()\n",
    "print (\"The PREVIOUS RANK column data contains:\")\n",
    "print (previous_rank)"
   ]
  },
  {
   "cell_type": "markdown",
   "metadata": {},
   "source": [
    "## **METHOD CHAINING**\n",
    "\n",
    "- The results of our RANK data shows us that the minimum value within our dataset is zero (0) which shouldn't be such. If our data is 500 in total, it should rank between 1 and 500 which implies that we shouldn't have a value of zero within the dataset. \n",
    "\n",
    "- So, the next step is now to confirm the number of zero(0) values we have within our dataset. One way we can do this is to use the `value.counts()` method. The typical way we can write this code is by:\n",
    "\n",
    "    `countries = f500[\"country\"]\n",
    "    countries_counts = countries.value_counts()`\n",
    "\n",
    "- If you try writing out this code, you'll get the result we intend to get, however, we can reduce the lenghtiness of our codes using the **method chaining** method which is the bone of contention here. **Method Chaining** is **a way to combine multiple methods together in a single line.**\n",
    "\n",
    "- Let us see how we can reduce the codes above using this method:"
   ]
  },
  {
   "cell_type": "code",
   "execution_count": 8,
   "metadata": {},
   "outputs": [
    {
     "name": "stdout",
     "output_type": "stream",
     "text": [
      "The number of times China appears is:\n",
      "109\n",
      "\n",
      "\n",
      "The number of previous rank null values without the method chaining approach are:\n",
      "33\n",
      "\n",
      "\n",
      "The number of previous rank null values with the method chaining approach are:\n",
      "33\n"
     ]
    }
   ],
   "source": [
    "# instead of initially assigning the 'country' column to a variable and then finding the value count, we can do this:\n",
    "countries_counts = f500[\"country\"].value_counts()\n",
    "# we can even extend the code to select the country we want to get the value count for using the '.loc' method\n",
    "print (\"The number of times China appears is:\")\n",
    "print(f500[\"country\"].value_counts().loc[\"China\"])\n",
    "print ('\\n')\n",
    "# we can use the method chaining approach to find the number of previous ranks that are null values. You just need to replicate the above code\n",
    "zero_previous_rank = f500[\"previous_rank\"].value_counts().loc[0] #without the method chaining approach\n",
    "print (\"The number of previous rank null values without the method chaining approach are:\")\n",
    "print (zero_previous_rank)\n",
    "print ('\\n')\n",
    "print (\"The number of previous rank null values with the method chaining approach are:\")\n",
    "print(f500[\"previous_rank\"].value_counts().loc[0]) #with the method chaining approach"
   ]
  },
  {
   "cell_type": "markdown",
   "metadata": {},
   "source": [
    "- Based on the analysis done above, we can see that some of the series have null values. However, we need to look beyond the **series** scope and start looking at the **dataframe** scope to ascertain all we need to know about our data.\n",
    "\n",
    "- Recall in the last lesson [INTRODUCTION TO PANDAS](https://github.com/Tess-hacker/THE-ULTIMATE-GUIDE-TO-UNDERSTANDING-NumPy-AND-PANDAS/blob/master/INTRODUCTION%20TO%20PANDAS.ipynb) which I believe you must have gone through, we learnt about the differences between Series and Dataframes.\n",
    "\n",
    "- The approach of finding the statistical summary we need from our dataset when applying it to Series and Dataframe differs slightly. While the median for the former can be calculated for instance using the `series.median()`, calculating the same for the latter has an adjustment to it: the addition of an *axis* parameter.\n",
    "\n",
    "- In addition, when calculating these values for a dataframe and filling in the *axis* parameter, there are two categories of data that can be filled in:\n",
    "\n",
    "    - To enable the code run across **columns**, the data passed to axis can be either the number **1** or the string **columns**\n",
    "    - To enable the code run across **rows**, the data passed to axis can be either the number **0** or the string **index**\n",
    "\n",
    "- Let us learn the differences in the table below:\n",
    "\n",
    "  |**SERIES** | **DATAFRAME**|\n",
    "  |  ---  | --- |\n",
    "  |Series.max()| Dataframe.max(axis = 0 or 1) |\n",
    "  |Series.min()| Dataframe.min(axis = 0 or 1) |\n",
    "  |Series.median()| Dataframe.median(axis = 0 or 1) |\n",
    "  |Series.mean()| Dataframe.mean(axis = 0 or 1) |\n",
    "  |Series.mode()| Dataframe.mode(axis = 0 or 1) |\n",
    "  |Series.sum()| Dataframe.sum(axis = 0 or 1) |\n",
    "\n",
    "- Now, let us use the dataframe to find the maximum value for **only numeric columns** within the dataset."
   ]
  },
  {
   "cell_type": "code",
   "execution_count": 9,
   "metadata": {},
   "outputs": [
    {
     "name": "stdout",
     "output_type": "stream",
     "text": [
      "rank                            500.0\n",
      "revenues                     485873.0\n",
      "revenue_change                  442.3\n",
      "profits                       45687.0\n",
      "assets                      3473238.0\n",
      "profit_change                  8909.5\n",
      "previous_rank                   500.0\n",
      "years_on_global_500_list         23.0\n",
      "employees                   2300000.0\n",
      "total_stockholder_equity     301893.0\n",
      "dtype: float64\n"
     ]
    }
   ],
   "source": [
    "max_f500 = f500.max(numeric_only=True)\n",
    "print (max_f500)"
   ]
  },
  {
   "cell_type": "markdown",
   "metadata": {},
   "source": [
    "- When using the `Dataframe.describe()` method, by default, it only returns the data or information for just the numeric columns. However, if we want it to return data for just the **object columns**, we need to add more information into our code.\n",
    "\n",
    "- Our describe function will look like this: \n",
    "\n",
    "    - `Dataframe.describe(include = ['0'])`\n",
    "    \n",
    "            \n",
    "- Let's try getting the information for both the numeric and object columns below."
   ]
  },
  {
   "cell_type": "code",
   "execution_count": 10,
   "metadata": {},
   "outputs": [
    {
     "name": "stdout",
     "output_type": "stream",
     "text": [
      "The outcome for the OBJECT columns are as follows:\n",
      "             ceo                       industry      sector country  \\\n",
      "count        500                            500         500     500   \n",
      "unique       500                             58          21      34   \n",
      "top     Yu Dehui  Banks: Commercial and Savings  Financials     USA   \n",
      "freq           1                             51         118     132   \n",
      "\n",
      "           hq_location                 website  \n",
      "count              500                     500  \n",
      "unique             235                     500  \n",
      "top     Beijing, China  http://www.siemens.com  \n",
      "freq                56                       1  \n",
      "\n",
      "\n",
      "The outcome for the NUMERIC columns are as follows:\n",
      "             rank       revenues  revenue_change       profits        assets  \\\n",
      "count  500.000000     500.000000      498.000000    499.000000  5.000000e+02   \n",
      "mean   250.500000   55416.358000        4.538353   3055.203206  2.436323e+05   \n",
      "std    144.481833   45725.478963       28.549067   5171.981071  4.851937e+05   \n",
      "min      1.000000   21609.000000      -67.300000 -13038.000000  3.717000e+03   \n",
      "25%    125.750000   29003.000000       -5.900000    556.950000  3.658850e+04   \n",
      "50%    250.500000   40236.000000        0.550000   1761.600000  7.326150e+04   \n",
      "75%    375.250000   63926.750000        6.975000   3954.000000  1.805640e+05   \n",
      "max    500.000000  485873.000000      442.300000  45687.000000  3.473238e+06   \n",
      "\n",
      "       profit_change  previous_rank  years_on_global_500_list     employees  \\\n",
      "count     436.000000     500.000000                500.000000  5.000000e+02   \n",
      "mean       24.152752     222.134000                 15.036000  1.339983e+05   \n",
      "std       437.509566     146.941961                  7.932752  1.700878e+05   \n",
      "min      -793.700000       0.000000                  1.000000  3.280000e+02   \n",
      "25%       -22.775000      92.750000                  7.000000  4.293250e+04   \n",
      "50%        -0.350000     219.500000                 17.000000  9.291050e+04   \n",
      "75%        17.700000     347.250000                 23.000000  1.689172e+05   \n",
      "max      8909.500000     500.000000                 23.000000  2.300000e+06   \n",
      "\n",
      "       total_stockholder_equity  \n",
      "count                500.000000  \n",
      "mean               30628.076000  \n",
      "std                43642.576833  \n",
      "min               -59909.000000  \n",
      "25%                 7553.750000  \n",
      "50%                15809.500000  \n",
      "75%                37828.500000  \n",
      "max               301893.000000  \n"
     ]
    }
   ],
   "source": [
    "# for the object columns\n",
    "print (\"The outcome for the OBJECT columns are as follows:\")\n",
    "print (f500.describe(include = ['O']))\n",
    "print ('\\n')\n",
    "print (\"The outcome for the NUMERIC columns are as follows:\")\n",
    "print (f500.describe())\n"
   ]
  },
  {
   "cell_type": "markdown",
   "metadata": {},
   "source": [
    "## **ASSIGNMENT WITH PANDAS**\n",
    "\n",
    "- From the result above for the numeric columns, we can conclude that no awkward looking value stands out except for the zero values under the previous rank column.\n",
    "\n",
    "- We do not want these values within our data and would like to assign null values to replace the zeros. This will help to indicate that the values are missing because based on our conclusion earlier in the lesson, a company with zero ranking has no rank at all. So, assigning a null value helps to show that **there's a rank for the firm(s) involved but the ranking(s) is/are missing.\n",
    "\n",
    "- In doing this, we will be learning the process of **assigning with pandas**. Just like NumPy, we can assign values to a row or a column using the column or row title. Wanna know how this is done?\n",
    "\n",
    "- Let's use the following examples:"
   ]
  },
  {
   "cell_type": "code",
   "execution_count": 11,
   "metadata": {},
   "outputs": [
    {
     "name": "stdout",
     "output_type": "stream",
     "text": [
      "The first five ranked companies and their revenue are:\n",
      "                          rank  revenues\n",
      "Walmart                      1    485873\n",
      "State Grid                   2    315199\n",
      "Sinopec Group                3    267518\n",
      "China National Petroleum     4    262573\n",
      "Toyota Motor                 5    254694\n",
      "\n",
      "\n",
      "The newly assigned values to revenue column are:\n",
      "                          rank  revenues\n",
      "Walmart                      1         0\n",
      "State Grid                   2         0\n",
      "Sinopec Group                3         0\n",
      "China National Petroleum     4         0\n",
      "Toyota Motor                 5         0\n",
      "\n",
      "\n",
      "The newly assigned values for State Grid are:\n",
      "                          rank  revenues\n",
      "Walmart                      1         0\n",
      "State Grid                   2       999\n",
      "Sinopec Group                3         0\n",
      "China National Petroleum     4         0\n",
      "Toyota Motor                 5         0\n"
     ]
    }
   ],
   "source": [
    "# first, let us print the first five rows of the data and the first two columns\n",
    "top5_rank_revenue = f500[[\"rank\", \"revenues\"]].head()\n",
    "print (\"The first five ranked companies and their revenue are:\")\n",
    "print(top5_rank_revenue)\n",
    "print ('\\n')\n",
    "# then let us assign values to the revenue column\n",
    "top5_rank_revenue[\"revenues\"] = 0\n",
    "print (\"The newly assigned values to revenue column are:\")\n",
    "print(top5_rank_revenue)\n",
    "print ('\\n')\n",
    "# we can also assign values based on a particular row and column location. Let's see:\n",
    "top5_rank_revenue.loc[\"State Grid\", \"revenues\"] = 999\n",
    "print (\"The newly assigned values for State Grid are:\")\n",
    "print(top5_rank_revenue)"
   ]
  },
  {
   "cell_type": "markdown",
   "metadata": {},
   "source": [
    "- Now for a real challenge:\n",
    "\n",
    "    - The company \"Dow Chemical\" has named a new CEO. Update the value where the row label is Dow Chemical and for the ceo column to Jim Fitterling in the f500 dataframe.\n",
    "    \n",
    "- Are you up for it? *winks*"
   ]
  },
  {
   "cell_type": "code",
   "execution_count": 12,
   "metadata": {},
   "outputs": [
    {
     "name": "stdout",
     "output_type": "stream",
     "text": [
      "The new CEO for Dow Chemical is:\n",
      "Jim Fitterling\n",
      "\n",
      "\n",
      "The updated CEO database is:\n",
      "                                                ceo\n",
      "Walmart                         C. Douglas McMillon\n",
      "State Grid                                  Kou Wei\n",
      "Sinopec Group                             Wang Yupu\n",
      "China National Petroleum              Zhang Jianhua\n",
      "Toyota Motor                            Akio Toyoda\n",
      "...                                             ...\n",
      "Teva Pharmaceutical Industries    Yitzhak Peterburg\n",
      "New China Life Insurance                   Wan Feng\n",
      "Wm. Morrison Supermarkets            David T. Potts\n",
      "TUI                               Friedrich Joussen\n",
      "AutoNation                       Michael J. Jackson\n",
      "\n",
      "[500 rows x 1 columns]\n"
     ]
    }
   ],
   "source": [
    "newdowceo = f500.loc[\"Dow Chemical\", \"ceo\"] = \"Jim Fitterling\"\n",
    "print (\"The new CEO for Dow Chemical is:\")\n",
    "print(newdowceo)\n",
    "print ('\\n')\n",
    "print (\"The updated CEO database is:\")\n",
    "print (f500[[\"ceo\"]])"
   ]
  },
  {
   "cell_type": "markdown",
   "metadata": {},
   "source": [
    "## **BOOLEAN INDEXING WITH PANDAS**\n",
    "\n",
    "- Now, we know how to assign values with pandas, we have one more step to go: understanding how to execute boolean indexing with pandas.\n",
    "\n",
    "- Looks easy to assign values to different rows and columns in a dataset, right? But looking forward, you'll see that the process becomes cumbersome when you are dealing with a larger volume of data. With the help of boolean indexing, **we can assign desired values to specific rows and/or columns at once**.\n",
    "\n",
    "- Using the boolean indexing and the `df.loc()` function, let us identify companies belonging to the \"Motor Vehicles and Parts\" industry in our f500 dataset."
   ]
  },
  {
   "cell_type": "code",
   "execution_count": 16,
   "metadata": {},
   "outputs": [
    {
     "name": "stdout",
     "output_type": "stream",
     "text": [
      "The Fortune 500 companies under the Motor Vehicles and Parts category are:\n",
      "Walmart                           False\n",
      "State Grid                        False\n",
      "Sinopec Group                     False\n",
      "China National Petroleum          False\n",
      "Toyota Motor                       True\n",
      "                                  ...  \n",
      "Teva Pharmaceutical Industries    False\n",
      "New China Life Insurance          False\n",
      "Wm. Morrison Supermarkets         False\n",
      "TUI                               False\n",
      "AutoNation                        False\n",
      "Name: industry, Length: 500, dtype: bool\n",
      "\n",
      "\n",
      "The countries under the Motor Vehicles and Parts category are:\n",
      "Toyota Motor                                 Japan\n",
      "Volkswagen                                 Germany\n",
      "Daimler                                    Germany\n",
      "General Motors                                 USA\n",
      "Ford Motor                                     USA\n",
      "Honda Motor                                  Japan\n",
      "SAIC Motor                                   China\n",
      "Nissan Motor                                 Japan\n",
      "BMW Group                                  Germany\n",
      "Dongfeng Motor                               China\n",
      "Robert Bosch                               Germany\n",
      "Hyundai Motor                          South Korea\n",
      "China FAW Group                              China\n",
      "Beijing Automotive Group                     China\n",
      "Peugeot                                     France\n",
      "Renault                                     France\n",
      "Kia Motors                             South Korea\n",
      "Continental                                Germany\n",
      "Denso                                        Japan\n",
      "Guangzhou Automobile Industry Group          China\n",
      "Tata Motors                                  India\n",
      "ZF Friedrichshafen                         Germany\n",
      "Jardine Matheson                             China\n",
      "Magna International                         Canada\n",
      "Volvo                                       Sweden\n",
      "Hyundai Mobis                          South Korea\n",
      "Aisin Seiki                                  Japan\n",
      "Zhejiang Geely Holding Group                 China\n",
      "Subaru                                       Japan\n",
      "Bridgestone                                  Japan\n",
      "Mazda Motor                                  Japan\n",
      "Suzuki Motor                                 Japan\n",
      "Sumitomo Electric Industries                 Japan\n",
      "Michelin                                    France\n",
      "Name: country, dtype: object\n",
      "\n",
      "\n",
      "The total number of countries in the Motor Vehicles and Parts category is:\n",
      "34\n"
     ]
    }
   ],
   "source": [
    "# First, Create a boolean series that compares whether the values in the industry column from the f500 dataframe are equal to \"Motor Vehicles and Parts\"\n",
    "motor_bool = f500[\"industry\"] == \"Motor Vehicles and Parts\"\n",
    "print (\"The Fortune 500 companies under the Motor Vehicles and Parts category are:\")\n",
    "print (motor_bool)\n",
    "print ('\\n')\n",
    "# then let us use the motor_bool series to index the country column; this way, we find out countries under the \"Motor Vehicles & Parts\" category\n",
    "motor_countries = f500.loc[motor_bool,\"country\"]\n",
    "print (\"The countries under the Motor Vehicles and Parts category are:\")\n",
    "print (motor_countries)\n",
    "print ('\\n')\n",
    "# let us count the number of countries under this category:\n",
    "print (\"The total number of countries in the Motor Vehicles and Parts category is:\")\n",
    "print (motor_countries.count())"
   ]
  },
  {
   "cell_type": "markdown",
   "metadata": {},
   "source": [
    "- With our newly found knowledge, we can now take care of the main reason we learned this in the first place: to replace the zero values in previous rank with null values as we consider them to be missing. Right?\n",
    "\n",
    "- Let us use the **method chaining** technique to combine pandas assignment and boolean indexing in assigning null values to our desired columns:"
   ]
  },
  {
   "cell_type": "code",
   "execution_count": 19,
   "metadata": {},
   "outputs": [
    {
     "name": "stdout",
     "output_type": "stream",
     "text": [
      "The PREVIOUS RANK data before method chaining is as follows:\n",
      "NaN      33\n",
      "471.0     1\n",
      "234.0     1\n",
      "125.0     1\n",
      "166.0     1\n",
      "Name: previous_rank, dtype: int64\n",
      "\n",
      "\n",
      "The PREVIOUS RANK data after method chaining is as follows:\n",
      "NaN      33\n",
      "471.0     1\n",
      "234.0     1\n",
      "125.0     1\n",
      "166.0     1\n",
      "Name: previous_rank, dtype: int64\n"
     ]
    }
   ],
   "source": [
    "import numpy as np\n",
    "# showing the previous rank column with an additional parameter: dropna = False which implies that the first 5 rows will be printing including null values\n",
    "prev_rank_before = f500[\"previous_rank\"].value_counts(dropna=False).head()\n",
    "print (\"The PREVIOUS RANK data before method chaining is as follows:\")\n",
    "print (prev_rank_before)\n",
    "print ('\\n')\n",
    "# assigning the null values within our dataset using method chaining\n",
    "f500.loc[f500[\"previous_rank\"] == 0,\"previous rank\"] = np.nan\n",
    "prev_rank_after= f500[\"previous_rank\"].value_counts(dropna=False).head()\n",
    "print (\"The PREVIOUS RANK data after method chaining is as follows:\")\n",
    "print (prev_rank_after)"
   ]
  },
  {
   "cell_type": "markdown",
   "metadata": {},
   "source": [
    "## **CREATING NEW COLUMNS**\n",
    "\n",
    "- Now that we have learnt values assignment and boolean indexing, we need to understand the concept of creating new columns within the dataframe. New columns can be created by assigning values to that new column.\n",
    "\n",
    "- Let us create a 'rank change' column within our dataset."
   ]
  },
  {
   "cell_type": "code",
   "execution_count": 23,
   "metadata": {},
   "outputs": [
    {
     "name": "stdout",
     "output_type": "stream",
     "text": [
      "                                rank  revenues  revenue_change  profits  \\\n",
      "Walmart                            1    485873             0.8  13643.0   \n",
      "State Grid                         2    315199            -4.4   9571.3   \n",
      "Sinopec Group                      3    267518            -9.1   1257.9   \n",
      "China National Petroleum           4    262573           -12.3   1867.5   \n",
      "Toyota Motor                       5    254694             7.7  16899.3   \n",
      "...                              ...       ...             ...      ...   \n",
      "Teva Pharmaceutical Industries   496     21903            11.5    329.0   \n",
      "New China Life Insurance         497     21796           -13.3    743.9   \n",
      "Wm. Morrison Supermarkets        498     21741           -11.3    406.4   \n",
      "TUI                              499     21655            -5.5   1151.7   \n",
      "AutoNation                       500     21609             3.6    430.5   \n",
      "\n",
      "                                assets  profit_change                  ceo  \\\n",
      "Walmart                         198825           -7.2  C. Douglas McMillon   \n",
      "State Grid                      489838           -6.2              Kou Wei   \n",
      "Sinopec Group                   310726          -65.0            Wang Yupu   \n",
      "China National Petroleum        585619          -73.7        Zhang Jianhua   \n",
      "Toyota Motor                    437575          -12.3          Akio Toyoda   \n",
      "...                                ...            ...                  ...   \n",
      "Teva Pharmaceutical Industries   92890          -79.3    Yitzhak Peterburg   \n",
      "New China Life Insurance        100609          -45.6             Wan Feng   \n",
      "Wm. Morrison Supermarkets        11630           20.4       David T. Potts   \n",
      "TUI                              16247          195.5    Friedrich Joussen   \n",
      "AutoNation                       10060           -2.7   Michael J. Jackson   \n",
      "\n",
      "                                                       industry  \\\n",
      "Walmart                                   General Merchandisers   \n",
      "State Grid                                            Utilities   \n",
      "Sinopec Group                                Petroleum Refining   \n",
      "China National Petroleum                     Petroleum Refining   \n",
      "Toyota Motor                           Motor Vehicles and Parts   \n",
      "...                                                         ...   \n",
      "Teva Pharmaceutical Industries                  Pharmaceuticals   \n",
      "New China Life Insurance        Insurance: Life, Health (stock)   \n",
      "Wm. Morrison Supermarkets                  Food and Drug Stores   \n",
      "TUI                                             Travel Services   \n",
      "AutoNation                                  Specialty Retailers   \n",
      "\n",
      "                                                sector  previous_rank  \\\n",
      "Walmart                                      Retailing            1.0   \n",
      "State Grid                                      Energy            2.0   \n",
      "Sinopec Group                                   Energy            4.0   \n",
      "China National Petroleum                        Energy            3.0   \n",
      "Toyota Motor                    Motor Vehicles & Parts            8.0   \n",
      "...                                                ...            ...   \n",
      "Teva Pharmaceutical Industries             Health Care            NaN   \n",
      "New China Life Insurance                    Financials          427.0   \n",
      "Wm. Morrison Supermarkets           Food & Drug Stores          437.0   \n",
      "TUI                                  Business Services          467.0   \n",
      "AutoNation                                   Retailing            NaN   \n",
      "\n",
      "                                country           hq_location  \\\n",
      "Walmart                             USA       Bentonville, AR   \n",
      "State Grid                        China        Beijing, China   \n",
      "Sinopec Group                     China        Beijing, China   \n",
      "China National Petroleum          China        Beijing, China   \n",
      "Toyota Motor                      Japan         Toyota, Japan   \n",
      "...                                 ...                   ...   \n",
      "Teva Pharmaceutical Industries   Israel  Petach Tikva, Israel   \n",
      "New China Life Insurance          China        Beijing, China   \n",
      "Wm. Morrison Supermarkets       Britain     Bradford, Britain   \n",
      "TUI                             Germany      Hanover, Germany   \n",
      "AutoNation                          USA   Fort Lauderdale, FL   \n",
      "\n",
      "                                                     website  \\\n",
      "Walmart                               http://www.walmart.com   \n",
      "State Grid                            http://www.sgcc.com.cn   \n",
      "Sinopec Group                         http://www.sinopec.com   \n",
      "China National Petroleum              http://www.cnpc.com.cn   \n",
      "Toyota Motor                    http://www.toyota-global.com   \n",
      "...                                                      ...   \n",
      "Teva Pharmaceutical Industries      http://www.tevapharm.com   \n",
      "New China Life Insurance         http://www.newchinalife.com   \n",
      "Wm. Morrison Supermarkets           http://www.morrisons.com   \n",
      "TUI                                  http://www.tuigroup.com   \n",
      "AutoNation                         http://www.autonation.com   \n",
      "\n",
      "                                years_on_global_500_list  employees  \\\n",
      "Walmart                                               23    2300000   \n",
      "State Grid                                            17     926067   \n",
      "Sinopec Group                                         19     713288   \n",
      "China National Petroleum                              17    1512048   \n",
      "Toyota Motor                                          23     364445   \n",
      "...                                                  ...        ...   \n",
      "Teva Pharmaceutical Industries                         1      56960   \n",
      "New China Life Insurance                               2      54378   \n",
      "Wm. Morrison Supermarkets                             13      77210   \n",
      "TUI                                                   23      66779   \n",
      "AutoNation                                            12      26000   \n",
      "\n",
      "                                total_stockholder_equity  previous rank  \\\n",
      "Walmart                                            77798            NaN   \n",
      "State Grid                                        209456            NaN   \n",
      "Sinopec Group                                     106523            NaN   \n",
      "China National Petroleum                          301893            NaN   \n",
      "Toyota Motor                                      157210            NaN   \n",
      "...                                                  ...            ...   \n",
      "Teva Pharmaceutical Industries                     33337            NaN   \n",
      "New China Life Insurance                            8507            NaN   \n",
      "Wm. Morrison Supermarkets                           5111            NaN   \n",
      "TUI                                                 3006            NaN   \n",
      "AutoNation                                          2310            NaN   \n",
      "\n",
      "                                rank_change  \n",
      "Walmart                                 0.0  \n",
      "State Grid                              0.0  \n",
      "Sinopec Group                           1.0  \n",
      "China National Petroleum               -1.0  \n",
      "Toyota Motor                            3.0  \n",
      "...                                     ...  \n",
      "Teva Pharmaceutical Industries          NaN  \n",
      "New China Life Insurance              -70.0  \n",
      "Wm. Morrison Supermarkets             -61.0  \n",
      "TUI                                   -32.0  \n",
      "AutoNation                              NaN  \n",
      "\n",
      "[500 rows x 18 columns]\n",
      "\n",
      "\n",
      "The description of the rank change column is as follows:\n",
      "count    467.000000\n",
      "mean      -3.533191\n",
      "std       44.293603\n",
      "min     -199.000000\n",
      "25%      -21.000000\n",
      "50%       -2.000000\n",
      "75%       10.000000\n",
      "max      226.000000\n",
      "Name: rank_change, dtype: float64\n"
     ]
    }
   ],
   "source": [
    "# create the rank change column which will be calculated by subtracting current rank from previous rank\n",
    "f500[\"rank_change\"] = f500[\"previous_rank\"] - f500[\"rank\"] \n",
    "print (f500)\n",
    "print ('\\n')\n",
    "rank_change_desc = f500[\"rank_change\"].describe()\n",
    "print (\"The description of the rank change column is as follows:\")\n",
    "print (rank_change_desc)"
   ]
  },
  {
   "cell_type": "markdown",
   "metadata": {},
   "source": [
    "## **CLOSING EXERCISES**\n",
    "\n",
    "- Let us now put what we have learnt so far into practice. \n",
    "\n",
    "    - First, let us print out the top 2 performing companies in the industry column in USA.\n",
    "    - Then, let us find the top 3 performing companies in the sector column in China"
   ]
  },
  {
   "cell_type": "code",
   "execution_count": 24,
   "metadata": {},
   "outputs": [
    {
     "name": "stdout",
     "output_type": "stream",
     "text": [
      "The first two performing industries in USA are:\n",
      "Banks: Commercial and Savings               8\n",
      "Insurance: Property and Casualty (Stock)    7\n",
      "Name: industry, dtype: int64\n",
      "\n",
      "\n",
      "The first 3 performing sectors in China are:\n",
      "Financials     25\n",
      "Energy         22\n",
      "Wholesalers     9\n",
      "Name: sector, dtype: int64\n"
     ]
    }
   ],
   "source": [
    "# to perform the two tasks above, we will need the value_counts() method, the boolean indexing and the method chaining strategy (optional)\n",
    "usa_bool = f500[\"industry\"][f500[\"country\"] == \"USA\"] #selecting the industries that fall under USA \n",
    "industry_usa = usa_bool.value_counts().head(2) # assigning those selected industries and selecting the first 2 performing industries in USA\n",
    "print (\"The first two performing industries in USA are:\")\n",
    "print (industry_usa)\n",
    "print ('\\n')\n",
    "china_bool = f500[\"sector\"][f500[\"country\"] == \"China\"] # Selecting the sectors under China\n",
    "sector_china = china_bool.value_counts().head(3) # assigning those selected Chinese sectors and selecting the first 3 performing sectors in China\n",
    "print (\"The first 3 performing sectors in China are:\")\n",
    "print (sector_china)"
   ]
  },
  {
   "cell_type": "markdown",
   "metadata": {},
   "source": [
    "# **SUMMARY**\n",
    "\n",
    "- In this lesson, we learned:\n",
    "\n",
    "    - How to select data from pandas objects using boolean arrays.\n",
    "    - How to assign data using labels and boolean arrays.\n",
    "    - How to create new columns in pandas.\n",
    "    - Many new methods to make data analysis easier in pandas.\n",
    "    \n",
    "- In the next lesson, we will be learning more advanced techniques in pandas.\n",
    "\n",
    "- Remember: PRACTICE! PRACTICE!! PRACTICE!!! until you get it!\n",
    "\n",
    "- Till the next lesson, **HAPPY CODING**\n"
   ]
  }
 ],
 "metadata": {
  "kernelspec": {
   "display_name": "Python 3",
   "language": "python",
   "name": "python3"
  },
  "language_info": {
   "codemirror_mode": {
    "name": "ipython",
    "version": 3
   },
   "file_extension": ".py",
   "mimetype": "text/x-python",
   "name": "python",
   "nbconvert_exporter": "python",
   "pygments_lexer": "ipython3",
   "version": "3.8.5"
  }
 },
 "nbformat": 4,
 "nbformat_minor": 4
}
