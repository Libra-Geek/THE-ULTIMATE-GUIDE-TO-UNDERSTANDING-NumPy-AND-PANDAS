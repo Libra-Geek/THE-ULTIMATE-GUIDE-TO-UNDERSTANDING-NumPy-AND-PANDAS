{
 "cells": [
  {
   "cell_type": "markdown",
   "metadata": {},
   "source": [
    "# **INTRODUCTION**\n",
    "\n",
    "- NumPy is a library in Python that allows us to write codes quickly  without sacrificing performance. In other words, it helps to optimize our codes in order to enable them run faster.\n",
    "\n",
    "\n",
    "- The core data structure in NumPy which enables it to function is the *ndarray* or a *n-dimensional array*. An array refers to **a collection of elements which is expressed similarly as a list**. The word *n-dimensional* simply means that an array can have more than one dimensions.\n",
    "\n",
    "\n",
    "- To import NumPy, we use the alias: \n",
    "\n",
    "     `import numpy as np`\n",
    "\n",
    "\n",
    "- Afterwards, we can use this alias to convert our list to a NumPy array using `np`. Let us now create a one-dimensional array."
   ]
  },
  {
   "cell_type": "code",
   "execution_count": 1,
   "metadata": {},
   "outputs": [
    {
     "name": "stdout",
     "output_type": "stream",
     "text": [
      "[10 20 30]\n"
     ]
    }
   ],
   "source": [
    "import numpy as np\n",
    "numpy_list = np.array([10,20,30])\n",
    "print (numpy_list)"
   ]
  },
  {
   "cell_type": "markdown",
   "metadata": {},
   "source": [
    "## **Understanding Vectorization in NumPy**\n",
    "\n",
    "- Here, we will explore why ndarrays and the NumPy library make it easier to manipulate and analyze data. In some of my previous lessons [here](https://github.com/Tess-hacker?tab=repositories), we used lists of lists to represent data sets. While lists of lists are sufficient for working with small data sets, they aren't efficient for working with larger data sets.\n",
    "\n",
    "- Consider an example where we have two columns of data and we want to add the two numbers on each row together. We could use a list of lists to structure our data and use a for loop to execute the task; however, the backend process would require Python to execute the task row by row. Simply put, in each iteration of our for loop, the Python interpreter turns our code into bytecode, and the bytecode asks our computer's processor to add the two numbers together individually. This implies that, if we have to add two elements on a thousand rows together, the iteration would be executed a thousand times before it is complete.  You can now see that this is not very efficient because where we have a massive amount of data, a similar process would require a long time to execute. \n",
    "\n",
    "\n",
    "- On the other hand, the NumPy library takes advantage of a processor feature called Single Instruction Multiple Data (SIMD) to process data faster. SIMD allows a processor to perform the same operation, on multiple data points, in a single processor cycle. This means that, if the same task for a thousand rows of data were to be executed by NumPy, it would be **four times faster bringing the processor cycle to 250 instead of 1000**. That's awesome, right?!\n",
    "\n",
    "\n",
    "- This brings us to the explanation of the topic above. **Vectorization** is the process of replacing the for loops with operations applied to multiple data points at once. NumPy array is one of the many tools that make vectorization possible. \n",
    "\n",
    "\n",
    "- The next step we will explore would be how vectorization makes our code faster and easier to execute as well as converting a real-world dataset from a list of lists to an ndarray."
   ]
  },
  {
   "cell_type": "markdown",
   "metadata": {},
   "source": [
    "## **NUMPY TWO DIMENSIONAL ARRAYS**\n",
    "\n",
    "\n",
    "- Remember that I stated earlier that a NumPy array contains a fundamental structure known as a *n-dimensional array* which implies that an array can have more than one dimension. To understand the art of two-dimensional arrays, we would explore a large dataset (I promised to work with real-life examples forthwith). Hence, we would be making use of the [New York City taxi trip data](https://raw.githubusercontent.com/Tess-hacker/THE-ULTIMATE-GUIDE-TO-UNDERSTANDING-NumPy-ARRAYS/master/nyc_taxis.csv). \n",
    "\n",
    "\n",
    "- We would only be working with the subset of the dataset ranging between the periods of January to June 2016. The details of each column of the dataset is shown as follows:\n",
    "\n",
    "    - `pickup_year`: The year of the trip.\n",
    "    \n",
    "    - `pickup_month`: The month of the trip (January is 1, December is 12).\n",
    "    \n",
    "    - `pickup_day`: The day of the month of the trip.\n",
    "    \n",
    "    - `pickup_location_code`: The airport or borough where the trip started.\n",
    "    \n",
    "    - `dropoff_location_code`: The airport or borough where the trip finished.\n",
    "    \n",
    "    - `trip_distance`: The distance of the trip in miles.\n",
    "    \n",
    "    - `trip_length`: The length of the trip in seconds.\n",
    "    \n",
    "    - `fare_amount`: The base fare of the trip, in dollars.\n",
    "    \n",
    "    - `total_amount`: The total amount charged to the passenger, including all fees, tolls and tips.\n",
    "\n",
    "\n",
    "- Now, we would import the dataset using the `csv` function on Python and the data would be imported as a list of lists. Afterwards, we would compare the dataset into a numpy array just like we did with one-dimensional arrays. Let's go!!"
   ]
  },
  {
   "cell_type": "code",
   "execution_count": 2,
   "metadata": {},
   "outputs": [
    {
     "name": "stdout",
     "output_type": "stream",
     "text": [
      "The raw taxi list is as follows:\n",
      "[['2016', '1', '1', '5', '0', '2', '4', '21.00', '2037', '52.00', '0.80', '5.54', '11.65', '69.99', '1'], ['2016', '1', '1', '5', '0', '2', '1', '16.29', '1520', '45.00', '1.30', '0.00', '8.00', '54.30', '1'], ['2016', '1', '1', '5', '0', '2', '6', '12.70', '1462', '36.50', '1.30', '0.00', '0.00', '37.80', '2'], ['2016', '1', '1', '5', '0', '2', '6', '8.70', '1210', '26.00', '1.30', '0.00', '5.46', '32.76', '1'], ['2016', '1', '1', '5', '0', '2', '6', '5.56', '759', '17.50', '1.30', '0.00', '0.00', '18.80', '2'], ['2016', '1', '1', '5', '0', '4', '2', '21.45', '2004', '52.00', '0.80', '0.00', '52.80', '105.60', '1'], ['2016', '1', '1', '5', '0', '2', '6', '8.45', '927', '24.50', '1.30', '0.00', '6.45', '32.25', '1'], ['2016', '1', '1', '5', '0', '2', '6', '7.30', '731', '21.50', '1.30', '0.00', '0.00', '22.80', '2'], ['2016', '1', '1', '5', '0', '2', '5', '36.30', '2562', '109.50', '0.80', '11.08', '10.00', '131.38', '1'], ['2016', '1', '1', '5', '0', '6', '2', '12.46', '1351', '36.00', '1.30', '0.00', '0.00', '37.30', '2']]\n",
      "\n",
      "\n",
      "The Taxi List adjusted using the NumPy Library is shown as follows:\n",
      "[[2.016e+03 1.000e+00 1.000e+00 ... 1.165e+01 6.999e+01 1.000e+00]\n",
      " [2.016e+03 1.000e+00 1.000e+00 ... 8.000e+00 5.430e+01 1.000e+00]\n",
      " [2.016e+03 1.000e+00 1.000e+00 ... 0.000e+00 3.780e+01 2.000e+00]\n",
      " ...\n",
      " [2.016e+03 6.000e+00 3.000e+01 ... 5.000e+00 6.334e+01 1.000e+00]\n",
      " [2.016e+03 6.000e+00 3.000e+01 ... 8.950e+00 4.475e+01 1.000e+00]\n",
      " [2.016e+03 6.000e+00 3.000e+01 ... 0.000e+00 5.484e+01 2.000e+00]]\n"
     ]
    }
   ],
   "source": [
    "import csv\n",
    "import numpy as np\n",
    "from csv import reader\n",
    "import unicodecsv as csv\n",
    "opened_file = open(r'C:\\Users\\USER\\Documents\\ONLINE COURSES\\DATAQUEST\\DATASETS\\nyc_taxis.csv', 'r', encoding='utf-8')\n",
    "read_file = reader(opened_file)\n",
    "nyc_taxis=list(read_file)\n",
    "nyc_taxis= nyc_taxis[1:] #we have eliminated the header\n",
    "print ('The raw taxi list is as follows:')\n",
    "print (nyc_taxis[:10])\n",
    "print ('\\n')\n",
    "# we now want to convert all values to floats\n",
    "converted_nyc_taxis = []\n",
    "for row in nyc_taxis:\n",
    "    converted_row = []\n",
    "    for item in row:\n",
    "        converted_row.append(float(item))\n",
    "    converted_nyc_taxis.append(converted_row)\n",
    "# now we want to convert the dataset into a NumPy array\n",
    "taxi_numpy_list = np.array(converted_nyc_taxis)\n",
    "print (\"The Taxi List adjusted using the NumPy Library is shown as follows:\")\n",
    "print (taxi_numpy_list)"
   ]
  },
  {
   "cell_type": "markdown",
   "metadata": {},
   "source": [
    "- Now that we have printed our dataset, we can now see its contents. However, there is an elipsis that shows within the converted dataset which informs us that not all the rows were printed. It is important for us to know the structure of the dataset we are dealing with to enable us perform operations smoothly. \n",
    "\n",
    "\n",
    "- Luckily, python has an in-built function or attribute that allows us to do this: `.shape` function. Let us check out and confirm the structure of our dataset."
   ]
  },
  {
   "cell_type": "code",
   "execution_count": 3,
   "metadata": {},
   "outputs": [
    {
     "name": "stdout",
     "output_type": "stream",
     "text": [
      "(89560, 15)\n"
     ]
    }
   ],
   "source": [
    "shape = taxi_numpy_list.shape\n",
    "print (shape)"
   ]
  },
  {
   "cell_type": "markdown",
   "metadata": {},
   "source": [
    "## **Selecting and Slicing Rows from NumPy Arrays**\n",
    "\n",
    "- There is a difference in the operations of a NumPy array and that of a list of lists, this is a point that has been highlighted previously. To slice rows from a list of lists and a NumPy array are quite similar. An instance of this is shown below:\n",
    "            \n",
    "    `slice = data[2:]`\n",
    "            \n",
    "            \n",
    "- To select a row in a two-dimensional NumPy Array, the following syntax is used:\n",
    "\n",
    "    `array[row_index,column_index]`\n",
    "            \n",
    "\n",
    "- Where you want to select a whole row: \n",
    "\n",
    "    `array[row_index]`\n",
    "            \n",
    "            \n",
    "- The `row index` defines the location along the row axis while the `column index` defines the location along the column axis. The rule that applies to array slicing in list of lists also applies to a NumPy array i.e. The array slicing begins from the specified index to the second specified index (which is not included in the printed results). This implies that if you want the 1st to 3rd rows of an array, your start index would be '0' while the end index would be '3' instead of '2'. If you use '2' instead of '3', you would have the element of 1st and 2nd rows instead of the whole three.\n",
    "\n",
    "\n",
    "- Let us now practice single and multiple slicing from a  NumPy array on our dataset."
   ]
  },
  {
   "cell_type": "code",
   "execution_count": 4,
   "metadata": {},
   "outputs": [
    {
     "name": "stdout",
     "output_type": "stream",
     "text": [
      "The First Row is:\n",
      "[2.016e+03 1.000e+00 1.000e+00 5.000e+00 0.000e+00 2.000e+00 4.000e+00\n",
      " 2.100e+01 2.037e+03 5.200e+01 8.000e-01 5.540e+00 1.165e+01 6.999e+01\n",
      " 1.000e+00]\n",
      "\n",
      "\n",
      "The elements between rows 391 and 500 are:\n",
      "[[2.016e+03 1.000e+00 2.000e+00 ... 0.000e+00 2.630e+01 2.000e+00]\n",
      " [2.016e+03 1.000e+00 2.000e+00 ... 3.000e+00 3.030e+01 1.000e+00]\n",
      " [2.016e+03 1.000e+00 2.000e+00 ... 6.670e+00 4.001e+01 1.000e+00]\n",
      " ...\n",
      " [2.016e+03 1.000e+00 2.000e+00 ... 4.960e+00 2.976e+01 1.000e+00]\n",
      " [2.016e+03 1.000e+00 2.000e+00 ... 0.000e+00 3.284e+01 2.000e+00]\n",
      " [2.016e+03 1.000e+00 2.000e+00 ... 7.050e+00 4.239e+01 1.000e+00]]\n",
      "\n",
      "\n",
      "The element on Row 21 and Column 5 is:\n",
      "4.0\n"
     ]
    }
   ],
   "source": [
    "first_row = taxi_numpy_list[0]\n",
    "rows_391_to_500 = taxi_numpy_list[391:501]\n",
    "row_21_column_5 = taxi_numpy_list[21,5]\n",
    "print (\"The First Row is:\")\n",
    "print (first_row)\n",
    "print ('\\n')\n",
    "print (\"The elements between rows 391 and 500 are:\")\n",
    "print (rows_391_to_500)\n",
    "print ('\\n')\n",
    "print (\"The element on Row 21 and Column 5 is:\")\n",
    "print (row_21_column_5)"
   ]
  },
  {
   "cell_type": "markdown",
   "metadata": {},
   "source": [
    "- Moving forward, we need to learn more on slicing data from nd arrays. \n",
    "\n",
    "\n",
    "- When dealing with a list of lists, to select a particular column and append it to a new list, we need to use a for loop to extract those columns. On the other hand, NumPy arrays make this process much simpler. With the method we have learnt above, using the stated syntax, we can combine a `row index` as a single element and the `column index` as a slice using the colon `:`. We can also use a slice for both dimensions in the case where we want a two-dimensional array.\n",
    "\n",
    "\n",
    "- Let's apply this below:"
   ]
  },
  {
   "cell_type": "code",
   "execution_count": 7,
   "metadata": {},
   "outputs": [
    {
     "name": "stdout",
     "output_type": "stream",
     "text": [
      "The variables on columns 1, 4 and 7 are:\n",
      "[[ 1.    0.   21.  ]\n",
      " [ 1.    0.   16.29]\n",
      " [ 1.    0.   12.7 ]\n",
      " ...\n",
      " [ 6.    5.   17.48]\n",
      " [ 6.    5.   12.76]\n",
      " [ 6.    5.   17.54]]\n",
      "\n",
      "\n",
      "The variables on row 99 and columns 5 to 8 are:\n",
      "[   2.      4.     20.91 1744.  ]\n",
      "\n",
      "\n",
      "The variables on rows 100 to 200 and columns 14 are:\n",
      "[2. 1. 1. 1. 1. 1. 2. 1. 1. 2. 1. 1. 1. 2. 2. 2. 1. 2. 1. 2. 1. 1. 2. 2.\n",
      " 2. 1. 1. 2. 1. 2. 1. 1. 2. 2. 1. 1. 2. 2. 1. 1. 1. 2. 1. 1. 1. 2. 2. 2.\n",
      " 2. 2. 1. 4. 2. 1. 2. 1. 2. 2. 2. 2. 1. 1. 2. 1. 2. 2. 2. 2. 1. 2. 2. 1.\n",
      " 2. 1. 2. 1. 2. 2. 1. 1. 1. 1. 2. 1. 1. 2. 2. 1. 1. 2. 2. 1. 1. 2. 1. 1.\n",
      " 1. 1. 1. 2. 2.]\n"
     ]
    }
   ],
   "source": [
    "columns_onefourseven = taxi_numpy_list[:,[1,4,7]]\n",
    "row99_columns5to8 = taxi_numpy_list[99, 5:9]\n",
    "rows100to200_column14 = taxi_numpy_list[100:201,14]\n",
    "print ('The variables on columns 1, 4 and 7 are:')\n",
    "print (columns_onefourseven)\n",
    "print ('\\n')\n",
    "print ('The variables on row 99 and columns 5 to 8 are:')\n",
    "print (row99_columns5to8)\n",
    "print ('\\n')\n",
    "print ('The variables on rows 100 to 200 and columns 14 are:')\n",
    "print (rows100to200_column14)"
   ]
  },
  {
   "cell_type": "markdown",
   "metadata": {},
   "source": [
    "## **VECTOR MATH**\n",
    "\n",
    "\n",
    "- Earlier, I explained that vectorization is the advantage that numpy arrays have over list of lists making them faster to execute. To perform an addition of arrays for example, you would have to assign the arrays to variable and then add both together (assigning a variable to the addition). This is shown below:\n",
    "\n",
    "    `array_numbers = np.array(number_list)`\n",
    "    \n",
    "    `col_1 = array_numbers[:,0]`\n",
    "    \n",
    "    `col_2 = array_numbers[:,1]`\n",
    "    \n",
    "    `addition = col_1 + col_2\n",
    "    \n",
    "    \n",
    "- Another method that can be used is to directly select the array and add them together assigning them to a single variable. This is shown below:\n",
    "\n",
    "    `array_numbers = np.array(number_list)`\n",
    "    \n",
    "    `addition = array_numbers[:,0] + array_numbers[:,1]`\n",
    "    \n",
    "\n",
    "- The arrays added together can also be called **vectors** and the addition of these vectors is called **vector addition**.\n",
    "\n",
    "\n",
    "\n",
    "- Now, let us try our NumPy addition strategy!!!!"
   ]
  },
  {
   "cell_type": "code",
   "execution_count": 8,
   "metadata": {},
   "outputs": [
    {
     "name": "stdout",
     "output_type": "stream",
     "text": [
      "[52.8 46.3 37.8 ... 52.8 35.8 49.3]\n"
     ]
    }
   ],
   "source": [
    "# we want to add two arrays on our dataset together: fare amount and fees amount\n",
    "\n",
    "taxi_fare = taxi_numpy_list[:,9]\n",
    "taxi_fees = taxi_numpy_list[:,10]\n",
    "taxi_fare_and_fees = taxi_fare + taxi_fees\n",
    "print (taxi_fare_and_fees)"
   ]
  },
  {
   "cell_type": "markdown",
   "metadata": {},
   "source": [
    "- Apart from the Vector addition strategy, other arithmetic operations can also be performed with the vectors including Subtraction, Multiplication and Division using the normal arithmetic signs.\n",
    "\n",
    "\n",
    "- You should note that when performing Vector Math, the arrays being used must have similar dimensions. That is, you cannot perform arithmetic operations between a 1D array and a 2D array or vice versa. \n",
    "\n",
    "\n",
    "- Using some of the rows, let us perform other vector math operations."
   ]
  },
  {
   "cell_type": "code",
   "execution_count": 9,
   "metadata": {},
   "outputs": [
    {
     "name": "stdout",
     "output_type": "stream",
     "text": [
      "[37.11340206 38.58157895 31.27222982 ... 22.29907867 42.41551247\n",
      " 36.90473407]\n"
     ]
    }
   ],
   "source": [
    "# using the trip distance and trip length, let us calculate the miles per hour.\n",
    "trip_distance = taxi_numpy_list[:,7]\n",
    "trip_length_in_seconds = taxi_numpy_list[:,8]\n",
    "# we want our trip length in hours, so, we have to convert the trip length in seconds to hours by dividing it by 3600 seconds. 3600 seconds = 1 hour\n",
    "trip_length_in_hours = trip_length_in_seconds/3600\n",
    "trip_miles_per_hour = trip_distance/trip_length_in_hours\n",
    "print (trip_miles_per_hour)"
   ]
  },
  {
   "cell_type": "markdown",
   "metadata": {},
   "source": [
    "- Now, it's time to dive deeper and calculate more values for our dataset. We need to now calculate the minimum, maximum and mean values for certain arrays within the dataset.\n",
    "\n",
    "\n",
    "- The following vectorized methods can be used to calculate those values:\n",
    "\n",
    "    `ndarray.min()` - to calculate minimum values\n",
    "    \n",
    "    `ndarray.max()` - to calculate maximum values\n",
    "    \n",
    "    `ndarray.mean()` - to calculate mean or average values\n",
    "    \n",
    "    `ndarray.sum()` - to calculate sum of values\n",
    "    \n",
    "    \n",
    "- You can find the full documentation list [here](https://docs.scipy.org/doc/numpy-1.14.0/reference/arrays.ndarray.html#calculation)\n",
    "\n",
    "\n",
    "- So, whenever you find the syntax instance online printed as `ndarray.method_name`, you should substitute `ndarray` with the name of the array and the `method_name` with the vectorized methods you want to use.\n",
    "\n",
    "\n",
    "- Now, let's get to practice."
   ]
  },
  {
   "cell_type": "code",
   "execution_count": 11,
   "metadata": {},
   "outputs": [
    {
     "name": "stdout",
     "output_type": "stream",
     "text": [
      "The maximum miles per hour for all trips is:\n",
      "82800.0\n",
      "\n",
      "\n",
      "The minimum miles per hour for all trips is:\n",
      "0.0\n",
      "\n",
      "\n",
      "The mean miles per hour for all trips is:\n",
      "32.24258580925573\n"
     ]
    }
   ],
   "source": [
    "# let us calculate the minimum values, maximum and mean values for the trip_miles_per_hour\n",
    "tripmilesperhour_max = trip_miles_per_hour.max()\n",
    "tripmilesperhour_min = trip_miles_per_hour.min()\n",
    "tripmilesperhour_mean = trip_miles_per_hour.mean()\n",
    "print (\"The maximum miles per hour for all trips is:\")\n",
    "print (tripmilesperhour_max)\n",
    "print ('\\n')\n",
    "print (\"The minimum miles per hour for all trips is:\")\n",
    "print (tripmilesperhour_min)\n",
    "print ('\\n')\n",
    "print (\"The mean miles per hour for all trips is:\")\n",
    "print (tripmilesperhour_mean)"
   ]
  },
  {
   "cell_type": "markdown",
   "metadata": {},
   "source": [
    "- Following the average/mean and max values for the miles per hour, we can observe that the max speed per hour is impossibly high and this must be due to an error in the devices that record data or in the data itself.\n",
    "\n",
    "\n",
    "- Let us explore the difference between methods and functions:\n",
    "\n",
    "    - Functions act as stand alone segments of code that usually take an input, perform some processing, and return some output. They could be in-built or bespoke.\n",
    "    \n",
    "    - Methods are special functions that belong to a specific type of object. This implies that, based on the category of data we are working with, we can only use specific functions for specific data categories. For instance the `.append()` method can only be used with lists and not strings otherwise we get an error.\n",
    "    \n",
    "    \n",
    "- Sometimes, certain operations can serve as both methods and functions The table below explains this:\n",
    "\n",
    "| **Calculation** | **Function Representation** | **Method Representation** |\n",
    "| --- | --- | --- |\n",
    "| Calculate the minimum value of `trip_mph` | `np.min(trip_mph)` | `trip_mph.min()` |\n",
    "| Calculate the maximum value of `trip_mph` | `np.max(trip_mph)` | `trip_mph.max()` |\n",
    "| Calculate the mean average value of `trip_mph` | `np.mean(trip_mph)` | `trip_mph.mean()` |\n",
    "| Calculate the median average value of `trip_mph` | `np.median(trip_mph)` | There is no ndarray median method |\n",
    "\n",
    "\n",
    "- To remember the differences clearly, just remember that:\n",
    "\n",
    "    - When the syntax starts with `np` i.e. `np.mean` and the like, **it is a function**.\n",
    "    \n",
    "    - When the syntax starts with an object or variable name i.e. `taxi_data.mean()`, **it is a method.**\n",
    "    \n",
    "    \n",
    "- While both approaches are good, the **method** approach is more effective especially when writing long codes.\n",
    "\n",
    "\n",
    "- Now, we will calculate the **statistics** for the dataset. If we apply our vector operations directly i.e. `taxi_data.min()`, we would only get the minimum value that exists within the whole dataset which is a single value. In the case where we want to derive these values for each row on the dataset, **an additional argument is needed.** We would need to add the `axis` argument and set it **equal to 1** to tell Python that we want values for individual rows and set it **equal to 0** to get values for individual columns.\n",
    "\n",
    "\n",
    "- For a start, in the dataset, the total fees can be found on column 12 which is an addition of the fees found on the column 9-11. We would like to calculate the sum of these fees ourselves and compare them with the totals on column 12. Let's do this!!"
   ]
  },
  {
   "cell_type": "code",
   "execution_count": 13,
   "metadata": {},
   "outputs": [
    {
     "name": "stdout",
     "output_type": "stream",
     "text": [
      "[69.99 54.3  37.8  ... 63.34 44.75 54.84]\n",
      "[69.99 54.3  37.8  32.76 18.8 ]\n"
     ]
    }
   ],
   "source": [
    "first_five_fees = taxi_numpy_list[:5] # the first five rows of the dataset\n",
    "fare_elements = taxi_numpy_list[:,9:13] # the rows used in arriving at the fare totals\n",
    "sum_fare = fare_elements.sum(axis =1) # we are calculating the totals on each row; hence, axis = 1\n",
    "total_fares = first_five_fees[:,13] # our total rows used for comparison\n",
    "print (sum_fare)\n",
    "print (total_fares)\n",
    "# let's see if our total figures match"
   ]
  },
  {
   "cell_type": "markdown",
   "metadata": {},
   "source": [
    "# **TO BE CONTINUED**\n",
    "\n",
    "- So far, you have been introduced to the basics of NumPy including the Vector Math operations, slicing and selecting dataset as well as the dimensions of arrays within a NumPy array.\n",
    "\n",
    "\n",
    "- In the next lesson, I will be taking you through **Boolean Indexing in NumPy**. By learning this, you will be able to analyse your data in a more advanced way to answer more questions about the dataset. Ensure you check it out and know that it is a continuation of this lesson.\n",
    "\n",
    "\n",
    "- Till then, **HAPPY CODING**!!!"
   ]
  }
 ],
 "metadata": {
  "kernelspec": {
   "display_name": "Python 3",
   "language": "python",
   "name": "python3"
  },
  "language_info": {
   "codemirror_mode": {
    "name": "ipython",
    "version": 3
   },
   "file_extension": ".py",
   "mimetype": "text/x-python",
   "name": "python",
   "nbconvert_exporter": "python",
   "pygments_lexer": "ipython3",
   "version": "3.7.6"
  }
 },
 "nbformat": 4,
 "nbformat_minor": 4
}
